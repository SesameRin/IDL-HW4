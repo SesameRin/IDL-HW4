{
  "cells": [
    {
      "cell_type": "markdown",
      "metadata": {
        "id": "ksTZ5pAtXWXh"
      },
      "source": [
        "# Setup\n",
        "-  Follow the setup instructions based on your preferred environment!"
      ]
    },
    {
      "cell_type": "markdown",
      "metadata": {
        "id": "QdhQJTlgXWXk"
      },
      "source": [
        "## Local"
      ]
    },
    {
      "cell_type": "markdown",
      "metadata": {
        "id": "CvlykMP_XWXl"
      },
      "source": [
        "One of our key goals in designing this assignment is to allow you to complete most of the preliminary implementation work locally.  \n",
        "We highly recommend that you **pass all tests locally** using the provided `hw4_data_subset` before moving to a GPU runtime.  \n",
        "To do this, simply:\n",
        "\n",
        "### Create a new conda environment\n",
        "```bash\n",
        "# Be sure to deactivate any active environments first\n",
        "conda create -n hw4 python=3.12.4\n",
        "```\n",
        "\n",
        "### Activate the conda environment\n",
        "```bash\n",
        "conda activate hw4\n",
        "```\n",
        "\n",
        "### Install the dependencies using the provided `requirements.txt`\n",
        "```bash\n",
        "pip install --no-cache-dir --ignore-installed -r requirements.txt\n",
        "```\n",
        "\n",
        "### Ensure that your notebook is in the same working directory as the `Handout`\n",
        "This can be achieved by:\n",
        "1. Physically moving the notebook into the handout directory.\n",
        "2. Changing the notebook’s current working directory to the handout directory using the os.chdir() function.\n",
        "\n",
        "### Open the notebook and select the newly created environment from the kernel selector.\n",
        "\n",
        "If everything was done correctly, You should see atleast the following files in your current working directory after running `!ls`:\n",
        "```\n",
        ".\n",
        "├── README.md\n",
        "├── requirements.txt\n",
        "├── hw4lib/\n",
        "├── mytorch/\n",
        "├── tests/\n",
        "└── hw4_data_subset/\n",
        "```"
      ]
    },
    {
      "cell_type": "markdown",
      "metadata": {
        "id": "T1K8ZJzQXWXm"
      },
      "source": [
        "## Colab"
      ]
    },
    {
      "cell_type": "markdown",
      "metadata": {
        "id": "3zBCpeYGXWXm"
      },
      "source": [
        "### Step 1: Get your handout\n",
        "- See writeup for recommended approaches."
      ]
    },
    {
      "cell_type": "code",
      "execution_count": null,
      "metadata": {
        "id": "7CEuLMiFXWXm"
      },
      "outputs": [],
      "source": [
        "# Example: My preferred approach\n",
        "import os\n",
        "# Settings -> Developer Settings -> Personal Access Tokens -> Token (classic)\n",
        "os.environ['GITHUB_TOKEN'] = \"your_github_token_here\"\n",
        "\n",
        "GITHUB_USERNAME = \"your_github_username_here\"\n",
        "REPO_NAME       = \"your_github_repo_name_here\"\n",
        "TOKEN = os.environ.get(\"GITHUB_TOKEN\")\n",
        "repo_url        = f\"https://{TOKEN}@github.com/{GITHUB_USERNAME}/{REPO_NAME}.git\"\n",
        "!git clone {repo_url}"
      ]
    },
    {
      "cell_type": "code",
      "execution_count": null,
      "metadata": {
        "id": "_Ov_XzmaXWXn"
      },
      "outputs": [],
      "source": [
        "# To pull latest changes (Must be in the repo dir, use pwd/ls to verify)\n",
        "!cd {REPO_NAME} && git pull"
      ]
    },
    {
      "cell_type": "markdown",
      "metadata": {
        "id": "MczkQoLuXWXo"
      },
      "source": [
        "### Step 2: Install Dependencies\n",
        "- `NOTE`: Your runtime will be restarted to ensure all dependencies are updated.\n",
        "- `NOTE`: You will see a runtime crashed message, this was intentionally done. Simply move on to the next cell."
      ]
    },
    {
      "cell_type": "code",
      "execution_count": null,
      "metadata": {
        "collapsed": true,
        "id": "GVyqU62HXWXo"
      },
      "outputs": [],
      "source": [
        "%pip install --no-deps -r IDL-HW4/requirements.txt\n",
        "import os\n",
        "os.kill(os.getpid(), 9) # NOTE: This will restart the your colab Python runtime (required)!"
      ]
    },
    {
      "cell_type": "markdown",
      "metadata": {
        "id": "0Dww5UXpXWXp"
      },
      "source": [
        "### Step 3: Obtain Data\n",
        "\n",
        "- `NOTE`: This process will automatically download and unzip data for both `HW4P1` and `HW4P2`.  \n"
      ]
    },
    {
      "cell_type": "code",
      "execution_count": null,
      "metadata": {
        "id": "HfPpo9nlXWXp"
      },
      "outputs": [],
      "source": [
        "!curl -L -o /content/s25-hw4-data.zip https://www.kaggle.com/api/v1/datasets/download/cmu11785/s25-hw4-data\n",
        "!unzip -q -o /content/s25-hw4-data.zip -d /content/hw4_data\n",
        "!rm -rf /content/s25-hw4-data.zip\n",
        "!du -h --max-depth=2 /content/hw4_data"
      ]
    },
    {
      "cell_type": "markdown",
      "metadata": {
        "id": "RV797kwAXWXp"
      },
      "source": [
        "### Step 4: Move to Handout Directory\n",
        "You must be within the handout directory for the library imports to work!\n",
        "\n",
        "- `NOTE`: You may have to repeat running this command anytime you restart your runtime.\n",
        "- `NOTE`: You can do a `pwd` to check if you are in the right directory.\n",
        "- `NOTE`: The way it is setup currently, Your data directory should be one level up from your project directory. Keep this in mind when you are setting your `root` in the config file.\n",
        "\n",
        "If everything was done correctly, You should see atleast the following files in your current working directory after running `!ls`:\n",
        "```\n",
        ".\n",
        "├── README.md\n",
        "├── requirements.txt\n",
        "├── hw4lib/\n",
        "├── mytorch/\n",
        "├── tests/\n",
        "└── hw4_data_subset/\n",
        "\n",
        "```"
      ]
    },
    {
      "cell_type": "code",
      "execution_count": null,
      "metadata": {
        "id": "mQOe2uDxXWXp"
      },
      "outputs": [],
      "source": [
        "import os\n",
        "os.chdir('IDL-HW4')\n",
        "!ls"
      ]
    },
    {
      "cell_type": "markdown",
      "metadata": {
        "id": "dqzcpqG0XWXp"
      },
      "source": [
        "## Kaggle"
      ]
    },
    {
      "cell_type": "markdown",
      "metadata": {
        "id": "HEg4SBYUXWXq"
      },
      "source": [
        "While it is possible to run the notebook on Kaggle, we would recommend against it. This assignment is more resource intensive and may run slower on Kaggle."
      ]
    },
    {
      "cell_type": "markdown",
      "metadata": {
        "id": "NMX5lqH9XWXq"
      },
      "source": [
        "### Step 1: Get your handout\n",
        "- See writeup for recommended approaches."
      ]
    },
    {
      "cell_type": "code",
      "execution_count": null,
      "metadata": {
        "id": "0qDr7vrLXWXq"
      },
      "outputs": [],
      "source": [
        "# Example: My preferred approach\n",
        "import os\n",
        "# Settings -> Developer Settings -> Personal Access Tokens -> Token (classic)\n",
        "os.environ['GITHUB_TOKEN'] = \"your_github_token_here\"\n",
        "\n",
        "GITHUB_USERNAME = \"your_github_username_here\"\n",
        "REPO_NAME       = \"your_github_repo_name_here\"\n",
        "TOKEN = os.environ.get(\"GITHUB_TOKEN\")\n",
        "repo_url        = f\"https://{TOKEN}@github.com/{GITHUB_USERNAME}/{REPO_NAME}.git\"\n",
        "!git clone {repo_url}"
      ]
    },
    {
      "cell_type": "code",
      "execution_count": null,
      "metadata": {
        "id": "R_CXP-GvXWXr"
      },
      "outputs": [],
      "source": [
        "# To pull latest changes (Must be in the repo dir, use pwd/ls to verify)\n",
        "!cd {REPO_NAME} && git pull"
      ]
    },
    {
      "cell_type": "markdown",
      "metadata": {
        "id": "x2nQNvB9XWXr"
      },
      "source": [
        "### Step 2: Install Dependencies\n",
        "- Simply set the `Environment` setting in the notebook to `Always use latest environment`. No need to install anything."
      ]
    },
    {
      "cell_type": "markdown",
      "metadata": {
        "id": "vIu_QszEXWXr"
      },
      "source": [
        "### Step 3: Obtain Data\n",
        "\n",
        "#### ⚠️ Important: Kaggle Users  \n",
        "If you are using Kaggle, **do not manually download the data!** The dataset is large and may exceed your available disk space. Instead, follow these steps to add the dataset directly to your notebook:\n",
        "\n",
        "1. Open your **Kaggle Notebook**.  \n",
        "2. Navigate to **Notebook → Input**.  \n",
        "3. Click **Add Input**.  \n",
        "4. In the search bar, paste the following URL:  \n",
        "   👉 [https://www.kaggle.com/datasets/cmu11785/s25-hw4-data](https://www.kaggle.com/datasets/cmu11785/s25-hw4-data)  \n",
        "5. Click the **➕ (plus sign)** to add the dataset to your notebook.  \n",
        "\n",
        "#### 📌 Note:  \n",
        "This process will automatically download and unzip data for both `HW4P1` and `HW4P2`.  \n"
      ]
    },
    {
      "cell_type": "markdown",
      "metadata": {
        "id": "eylVaaxrXWXr"
      },
      "source": [
        "### Step 4: Move to Handout Directory\n",
        "You must be within the handout directory for the library imports to work!\n",
        "\n",
        "- `NOTE`: You may have to repeat running this command anytime you restart your runtime.\n",
        "- `NOTE`: You can do a `pwd` to check if you are in the right directory.\n",
        "- `NOTE`: The way it is setup currently, Your data directory should be one level up from your project directory. Keep this in mind when you are setting your `root` in the config file.\n",
        "\n",
        "If everything was done correctly, You should see atleast the following files in your current working directory after running `!ls`:\n",
        "```\n",
        ".\n",
        "├── README.md\n",
        "├── requirements.txt\n",
        "├── hw4lib/\n",
        "├── mytorch/\n",
        "├── tests/\n",
        "└── hw4_data_subset/\n",
        "\n",
        "```"
      ]
    },
    {
      "cell_type": "code",
      "execution_count": null,
      "metadata": {
        "id": "-Wpjv3ujXWXs"
      },
      "outputs": [],
      "source": [
        "import os\n",
        "os.chdir('IDL-HW4')\n",
        "!ls"
      ]
    },
    {
      "cell_type": "markdown",
      "metadata": {
        "id": "uP0Aucc7XWXs"
      },
      "source": [
        "## PSC"
      ]
    },
    {
      "cell_type": "markdown",
      "metadata": {
        "id": "yJm_aSHvXWXs"
      },
      "source": [
        "### Step 1: Get your handout\n",
        "- See writeup for recommended approaches.\n",
        "- If you use Remote - SSH to connect to Bridges2, you can upload the handout to your project directory and work from there.\n"
      ]
    },
    {
      "cell_type": "code",
      "execution_count": null,
      "metadata": {
        "id": "simQXvJoXWXs"
      },
      "outputs": [],
      "source": [
        "# Example: My preferred approach\n",
        "import os\n",
        "# Settings -> Developer Settings -> Personal Access Tokens -> Token (classic)\n",
        "os.environ['GITHUB_TOKEN'] = \"your_github_token_here\"\n",
        "\n",
        "GITHUB_USERNAME = \"your_github_username_here\"\n",
        "REPO_NAME       = \"your_github_repo_name_here\"\n",
        "TOKEN = os.environ.get(\"GITHUB_TOKEN\")\n",
        "repo_url        = f\"https://{TOKEN}@github.com/{GITHUB_USERNAME}/{REPO_NAME}.git\"\n",
        "!git clone {repo_url}"
      ]
    },
    {
      "cell_type": "code",
      "execution_count": null,
      "metadata": {
        "id": "8Ibi0yUFXWXs"
      },
      "outputs": [],
      "source": [
        "# To pull latest changes (Must be in the repo dir, use pwd/ls to verify)\n",
        "!cd {REPO_NAME} && git pull"
      ]
    },
    {
      "cell_type": "markdown",
      "metadata": {
        "id": "VXhjLh83XWXt"
      },
      "source": [
        "### Step 2: Setting Up Your Environment on Bridges2\n",
        "\n",
        "For this homework, we are providing a shared Conda environment for the entire class. Follow these steps to set up the environment and start a Jupyter notebook on Bridges2:"
      ]
    },
    {
      "cell_type": "markdown",
      "metadata": {
        "id": "vG_taa71XWXt"
      },
      "source": [
        "#### 1. SSH into Bridges2\n",
        "```bash\n",
        "ssh username@bridges2.psc.edu\n",
        "```"
      ]
    },
    {
      "cell_type": "markdown",
      "metadata": {
        "id": "4hpcW2C5XWXt"
      },
      "source": [
        "#### 2. Navigate to your Project Directory\n",
        "```bash\n",
        "cd $PROJECT\n",
        "```"
      ]
    },
    {
      "cell_type": "markdown",
      "metadata": {
        "id": "j-YNBIVWXWXt"
      },
      "source": [
        "#### 3. Load the Anaconda Module\n",
        "```bash\n",
        "module load anaconda3\n",
        "```"
      ]
    },
    {
      "cell_type": "markdown",
      "metadata": {
        "id": "J-7_f2PGXWXt"
      },
      "source": [
        "#### 4. Activate the provided HW4 Environment\n",
        "```bash\n",
        "conda deactivate # First, deactivate any existing Conda environment\n",
        "conda activate /jet/home/psamal/hw_envs/idl_hw4\n",
        "```"
      ]
    },
    {
      "cell_type": "markdown",
      "metadata": {
        "id": "Ag3zHpx2XWXu"
      },
      "source": [
        "#### 5. Request a Compute Node\n",
        "```bash\n",
        "interact -p GPU-shared --gres=gpu:v100-32:1 -t 8:00:00\n",
        "```"
      ]
    },
    {
      "cell_type": "markdown",
      "metadata": {
        "id": "annERewlXWXu"
      },
      "source": [
        "#### 6. Re-activate Environment\n",
        "If your Conda environment was deactivated due to node allocation:\n",
        "```bash\n",
        "conda deactivate # First, deactivate any existing Conda environment\n",
        "conda activate /jet/home/psamal/hw_envs/idl_hw4\n",
        "```"
      ]
    },
    {
      "cell_type": "markdown",
      "metadata": {
        "id": "UPp6QNFGXWXu"
      },
      "source": [
        "#### 7. Start Jupyter Notebook\n",
        "Launch Jupyter Notebook:\n",
        "```bash\n",
        "jupyter notebook --no-browser --ip=0.0.0.0\n",
        "```"
      ]
    },
    {
      "cell_type": "markdown",
      "metadata": {
        "id": "V9QqEXMkXWXv"
      },
      "source": [
        "\n",
        "#### 8. Connect to Jupyter Server\n",
        "\n",
        "You can now use your prefered way of connecting to the Jupyter Server. Your options should be covered in the docs linked in post 558 @ piazza.\n",
        "\n",
        "The following is my preferred way of connecting to the Jupyter Server:\n",
        "\n",
        "##### 8.1 Connect in VSCode\n",
        "I prefer uploading the notebook to PSC Bridges2 storage ($PROJECT directory) and then connecting to the Jupyter Server from there.\n",
        "1. Use Remote - SSH to connect to Bridges2 and navigate to your project directory.\n",
        "2. Upload the notebook to the project directory.\n",
        "3. Open the notebook in VSCode.\n",
        "4. Go to **Kernel** → **Select Another Kernel** → **Existing Jupyter Server**\n",
        "5. Enter the URL of the Jupyter Server:```http://{hostname}:{port}/tree?token={token}```\n",
        "   - eg: `http://v011.ib.bridges2.psc.edu:8888/tree?token=e4b302434e68990f28bc2b4ae8d216eb87eecb7090526249`\n",
        "\n",
        "> **Note**: Replace `{hostname}`, `{port}` and `{token}` with your actual values from the Jupyter output."
      ]
    },
    {
      "cell_type": "markdown",
      "metadata": {
        "id": "yTzqOnqVXWXw"
      },
      "source": [
        "### Step 3: Get Data\n",
        "- `NOTE`: This will download and unzip data for both `HW4P1` and `HW4P2`\n",
        "- `NOTE`: We are using `$LOCAL`: the scratch storage on local disk on the node running a job to store out data.\n",
        "  - Disk accesses are much faster than what you would get from `$PROJECT` storage\n",
        "  - `IT IS NOT PERSISTENT`\n",
        "- `NOTE`: Make sure you have completed the previous steps before running this cell.\n",
        "- Read more about it PSC File Spaces [here](https://www.psc.edu/resources/bridges-2/user-guide#file-spaces)."
      ]
    },
    {
      "cell_type": "code",
      "execution_count": 1,
      "metadata": {
        "id": "Rx2lB7TKXWXw"
      },
      "outputs": [
        {
          "name": "stdout",
          "output_type": "stream",
          "text": [
            "  % Total    % Received % Xferd  Average Speed   Time    Time     Time  Current\n",
            "                                 Dload  Upload   Total   Spent    Left  Speed\n",
            "  0     0    0     0    0     0      0      0 --:--:-- --:--:-- --:--:--     0\n",
            "100 11.9G  100 11.9G    0     0   255M      0  0:00:47  0:00:47 --:--:--  244M\n",
            "28M\t/local/hw4_data/hw4p1_data/test\n",
            "1.1G\t/local/hw4_data/hw4p1_data/train\n",
            "28M\t/local/hw4_data/hw4p1_data/val\n",
            "1.1G\t/local/hw4_data/hw4p1_data\n",
            "757M\t/local/hw4_data/hw4p2_data/dev-clean\n",
            "748M\t/local/hw4_data/hw4p2_data/test-clean\n",
            "14G\t/local/hw4_data/hw4p2_data/train-clean-100\n",
            "16G\t/local/hw4_data/hw4p2_data\n",
            "17G\t/local/hw4_data\n"
          ]
        }
      ],
      "source": [
        "!curl -L -o $LOCAL/s25-hw4-data.zip https://www.kaggle.com/api/v1/datasets/download/cmu11785/s25-hw4-data\n",
        "!unzip -q -o $LOCAL/s25-hw4-data.zip -d $LOCAL/hw4_data\n",
        "!rm -rf $LOCAL/s25-hw4-data.zip\n",
        "!du -h --max-depth=2 $LOCAL/hw4_data"
      ]
    },
    {
      "cell_type": "markdown",
      "metadata": {
        "id": "FbFIgoFyXWXw"
      },
      "source": [
        "### Step 4: Move to Handout Directory\n",
        "Depending on the way you are running your notebook, you may or may not need to run this cell. As long as you are within the handout directory for the library imports to work!\n",
        "\n",
        "- `NOTE`: You may have to repeat running this command anytime you restart your runtime.\n",
        "- `NOTE`: You can do a `pwd` to check if you are in the right directory.\n",
        "- `NOTE`: The way it is setup currently, Your data directory should be one level up from your project directory. Keep this in mind when you are setting your `root` in the config file.\n",
        "\n",
        "If everything was done correctly, You should see atleast the following files in your current working directory after running `!ls`:\n",
        "```\n",
        ".\n",
        "├── README.md\n",
        "├── requirements.txt\n",
        "├── hw4lib/\n",
        "├── mytorch/\n",
        "├── tests/\n",
        "└── hw4_data_subset/\n",
        "\n",
        "```"
      ]
    },
    {
      "cell_type": "code",
      "execution_count": null,
      "metadata": {
        "id": "AmRtaGthXWXw"
      },
      "outputs": [],
      "source": [
        "# Move to the handout directory if you are not there already\n",
        "import os\n",
        "os.chdir('IDL-HW4')\n",
        "!ls"
      ]
    },
    {
      "cell_type": "markdown",
      "metadata": {
        "id": "gv-iljarXWXw"
      },
      "source": [
        "# Imports\n",
        "- If your setup was done correctly, you should be able to run the following cell without any issues."
      ]
    },
    {
      "cell_type": "code",
      "execution_count": 2,
      "metadata": {
        "id": "41s27pCAXWXx"
      },
      "outputs": [
        {
          "name": "stdout",
          "output_type": "stream",
          "text": [
            "Using device: cuda\n"
          ]
        }
      ],
      "source": [
        "from hw4lib.data import (\n",
        "    H4Tokenizer,\n",
        "    ASRDataset,\n",
        "    verify_dataloader\n",
        ")\n",
        "from hw4lib.model import (\n",
        "    DecoderOnlyTransformer,\n",
        "    EncoderDecoderTransformer\n",
        ")\n",
        "from hw4lib.utils import (\n",
        "    create_scheduler,\n",
        "    create_optimizer,\n",
        "    plot_lr_schedule\n",
        ")\n",
        "from hw4lib.trainers import (\n",
        "    ASRTrainer,\n",
        "    ProgressiveTrainer\n",
        ")\n",
        "from torch.utils.data import DataLoader\n",
        "import yaml\n",
        "import gc\n",
        "import torch\n",
        "from torchinfo import summary\n",
        "import os\n",
        "import json\n",
        "import wandb\n",
        "import pandas as pd\n",
        "device = \"cuda\" if torch.cuda.is_available() else \"cpu\"\n",
        "print(f\"Using device: {device}\")"
      ]
    },
    {
      "cell_type": "markdown",
      "metadata": {
        "id": "k5ey-Nd0XWXx"
      },
      "source": [
        "# Implementations\n",
        "- `NOTE`: All of these implementations have detailed specification, implementation details, and hints in their respective source files. Make sure to read all of them in their entirety to understand the implementation details!"
      ]
    },
    {
      "cell_type": "markdown",
      "metadata": {
        "id": "yvQA7UchXWXx"
      },
      "source": [
        "## Dataset Implementation\n",
        "- Implement the `ASRDataset` class in `hw4lib/data/asr_dataset.py`.\n",
        "- You will have to implement parts of `__init__` and completely implement the `__len__`, `__getitem__` and `collate_fn` methods.\n",
        "- Run the cell below to check your implementation.\n"
      ]
    },
    {
      "cell_type": "code",
      "execution_count": 3,
      "metadata": {
        "id": "BPZNGGJ9XWXx"
      },
      "outputs": [
        {
          "name": "stdout",
          "output_type": "stream",
          "text": [
            "Loading data for train-clean-100 partition...\n",
            "Loading data for test-clean partition...\n",
            "\n",
            "\u001b[95m================================================================================\n",
            "Running tests for category: ASRDataset Train\n",
            "--------------------------------------------------------------------------------\u001b[0m\n",
            "\n",
            "\u001b[94m[01/01]    Running:  Test a Train instance of ASRDataset class\u001b[0m\n",
            "Testing __init__ method ...\n",
            "Test Passed: Dataset length matches FBANK files.\n",
            "Test Passed: Dataset length matches TRANSCRIPT files.\n",
            "Test Passed: Order alignment between FBANK files and TRANSCRIPT files is correct.\n",
            "Test Passed: Alignment between features and transcripts is correct.\n",
            "Test Passed: All features have the correct number of dimensions (num_feats).\n",
            "Test Passed: All transcripts are decoded correctly after removing SOS and EOS tokens.\n",
            "Testing __getitem__ method ...\n",
            "Test Passed: All samples have correct feature dimensions and transcript alignment.\n",
            "Testing collate_fn method ...\n",
            "Test Passed: Feature batch has correct dimensions (3D tensor).\n",
            "Test Passed: All sequences are padded to the same length.\n",
            "Test Passed: All transcripts are padded to the same length.\n",
            "Test Passed: Padding values are correct.\n",
            "\u001b[92m[01/01]    PASSED:   Test a Train instance of ASRDataset class\u001b[0m\n",
            "\n",
            "\n",
            "\u001b[95m================================================================================\n",
            "Running tests for category: ASRDataset Test\n",
            "--------------------------------------------------------------------------------\u001b[0m\n",
            "\n",
            "\u001b[94m[01/01]    Running:  Test a Test instance of ASRDataset class\u001b[0m\n",
            "Testing __init__ method ...\n",
            "Test Passed: Dataset length matches FBANK files.\n",
            "Test Passed: All features have the correct number of dimensions (num_feats).\n",
            "Testing __getitem__ method ...\n",
            "Test Passed: Transcripts are None for 'test-clean' at index 0.\n",
            "Test Passed: Transcripts are None for 'test-clean' at index 1.\n",
            "Test Passed: All samples have correct feature dimensions and transcript alignment.\n",
            "Testing collate_fn method ...\n",
            "Test Passed: Feature batch has correct dimensions (3D tensor).\n",
            "Test Passed: All sequences are padded to the same length.\n",
            "Test Passed: Transcripts and lengths are correctly set to None for 'test-clean'.\n",
            "\u001b[92m[01/01]    PASSED:   Test a Test instance of ASRDataset class\u001b[0m\n",
            "\n",
            "\n",
            "\u001b[95m================================================================================\n",
            "                                  Test Summary                                  \n",
            "================================================================================\u001b[0m\n",
            "\u001b[93mCategory:    ASRDataset Train              \n",
            "Results:     1/1 tests passed (100.0%)\u001b[0m\n",
            "\u001b[93mCategory:    ASRDataset Test               \n",
            "Results:     1/1 tests passed (100.0%)\u001b[0m\n"
          ]
        },
        {
          "name": "stderr",
          "output_type": "stream",
          "text": [
            "\n",
            "  0%|          | 0/28 [00:00<?, ?it/s]\n",
            "100%|██████████| 28/28 [00:00<00:00, 411.01it/s]\n",
            "\n",
            "  0%|          | 0/2 [00:00<?, ?it/s]\n",
            "100%|██████████| 2/2 [00:00<00:00, 2000.14it/s]\n"
          ]
        }
      ],
      "source": [
        "!python -m tests.test_dataset_asr"
      ]
    },
    {
      "cell_type": "markdown",
      "metadata": {
        "id": "dTKyK49VXWXx"
      },
      "source": [
        "## Model Implementations\n",
        "\n",
        "Overview:\n",
        "\n",
        "- Implement the `CrossAttentionLayer` class in `hw4lib/model/sublayers.py`.\n",
        "- Implement the `CrossAttentionDecoderLayer` class in `hw4lib/model/decoder_layers.py`.\n",
        "- Implement the `SelfAttentionEncoderLayer` class in `hw4lib/model/encoder_layers.py`. This will be mostly a copy-paste of the `SelfAttentionDecoderLayer` class in `hw4lib/model/decoder_layers.py` with one minor diffrence: it can attend to all positions in the input sequence.\n",
        "- Implement the `EncoderDecoderTransformer` class in `hw4lib/model/transformers.py`."
      ]
    },
    {
      "cell_type": "markdown",
      "metadata": {
        "id": "POb3Agw6XWXy"
      },
      "source": [
        "### Transformer Sublayers\n",
        "- Now, Implement the `CrossAttentionLayer` class in `hw4lib/model/sublayers.py`.\n",
        "- `NOTE`: You should have already implemented the `SelfAttentionLayer`, and `FeedForwardLayer` classes in `hw4lib/model/sublayers.py`.\n",
        "- Run the cell below to check your implementation."
      ]
    },
    {
      "cell_type": "code",
      "execution_count": 4,
      "metadata": {
        "id": "_vYRTVdGXWXy"
      },
      "outputs": [
        {
          "name": "stdout",
          "output_type": "stream",
          "text": [
            "\n",
            "\u001b[95m================================================================================\n",
            "Running tests for category: CrossAttentionLayer\n",
            "--------------------------------------------------------------------------------\u001b[0m\n",
            "\n",
            "\u001b[94m[01/01]    Running:  Test the cross-attention sublayer\u001b[0m\n",
            "Testing initialization ...\n",
            "Test Passed: All layers exist and are instantiated correctly\n",
            "Testing forward shapes ...\n",
            "Test Passed: Forward pass returns the correct shapes\n",
            "Testing padding mask behaviour ...\n",
            "Test Passed: Padding mask is applied correctly\n",
            "Testing cross-attention behaviour ...\n",
            "Test Passed: Cross-attention behavior is correct\n",
            "Testing residual connection ...\n",
            "Test Passed: Residual connection is applied correctly\n",
            "\u001b[92m[01/01]    PASSED:   Test the cross-attention sublayer\u001b[0m\n",
            "\n",
            "\n",
            "\u001b[95m================================================================================\n",
            "                                  Test Summary                                  \n",
            "================================================================================\u001b[0m\n",
            "\u001b[93mCategory:    CrossAttentionLayer           \n",
            "Results:     1/1 tests passed (100.0%)\u001b[0m\n"
          ]
        }
      ],
      "source": [
        "!python -m tests.test_sublayer_crossattention"
      ]
    },
    {
      "cell_type": "markdown",
      "metadata": {
        "id": "FbIAaQ--XWXy"
      },
      "source": [
        "### Transformer Cross-Attention Decoder Layer\n",
        "- Implement the `CrossAttentionDecoderLayer` class in `hw4lib/model/decoder_layers.py`.\n",
        "- Then run the cell below to check your implementation.\n"
      ]
    },
    {
      "cell_type": "code",
      "execution_count": 5,
      "metadata": {
        "id": "s4Ke3vAVXWXy"
      },
      "outputs": [
        {
          "name": "stdout",
          "output_type": "stream",
          "text": [
            "\n",
            "\u001b[95m================================================================================\n",
            "Running tests for category: CrossAttentionDecoderLayer\n",
            "--------------------------------------------------------------------------------\u001b[0m\n",
            "\n",
            "\u001b[94m[01/01]    Running:  Test the cross-attention decoder layer\u001b[0m\n",
            "Testing initialization ...\n",
            "Test Passed: All sublayers exist and are initialized correctly\n",
            "Testing forward shapes ...\n",
            "Test Passed: Forward shapes are as expected\n",
            "Testing sublayer integration ...\n",
            "Test Passed: Sublayers interact correctly\n",
            "Testing cross-attention behavior ...\n",
            "Test Passed: Cross-attention behaves correctly\n",
            "\u001b[92m[01/01]    PASSED:   Test the cross-attention decoder layer\u001b[0m\n",
            "\n",
            "\n",
            "\u001b[95m================================================================================\n",
            "                                  Test Summary                                  \n",
            "================================================================================\u001b[0m\n",
            "\u001b[93mCategory:    CrossAttentionDecoderLayer    \n",
            "Results:     1/1 tests passed (100.0%)\u001b[0m\n"
          ]
        }
      ],
      "source": [
        "!python -m tests.test_decoderlayer_crossattention"
      ]
    },
    {
      "cell_type": "markdown",
      "metadata": {
        "id": "28snypxrXWXy"
      },
      "source": [
        "### Transformer Self-Attention Encoder Layer\n",
        "- Implement the `SelfAttentionEncoderLayer` class in `hw4lib/model/encoder_layers.py`.\n",
        "- Then run the cell below to check your implementation.\n",
        "\n",
        "\n"
      ]
    },
    {
      "cell_type": "code",
      "execution_count": 9,
      "metadata": {
        "id": "h_bRj56mXWXy"
      },
      "outputs": [
        {
          "name": "stdout",
          "output_type": "stream",
          "text": [
            "\n",
            "\u001b[95m================================================================================\n",
            "Running tests for category: SelfAttentionEncoderLayer\n",
            "--------------------------------------------------------------------------------\u001b[0m\n",
            "\n",
            "\u001b[94m[01/01]    Running:  Test the self-attention encoder layer\u001b[0m\n",
            "Testing initialization ...\n",
            "Test Passed: All sublayers exist and are initialized correctly\n",
            "Testing forward shapes ...\n",
            "Test Passed: Forward shapes are as expected\n",
            "Testing sublayer interaction ...\n",
            "Test Passed: Sublayers interact correctly\n",
            "Testing bidirectional attention ...\n",
            "Test Passed: Bidirectional attention is working correctly\n",
            "\u001b[92m[01/01]    PASSED:   Test the self-attention encoder layer\u001b[0m\n",
            "\n",
            "\n",
            "\u001b[95m================================================================================\n",
            "                                  Test Summary                                  \n",
            "================================================================================\u001b[0m\n",
            "\u001b[93mCategory:    SelfAttentionEncoderLayer     \n",
            "Results:     1/1 tests passed (100.0%)\u001b[0m\n"
          ]
        }
      ],
      "source": [
        "!python -m tests.test_encoderlayer_selfattention"
      ]
    },
    {
      "cell_type": "markdown",
      "metadata": {
        "id": "c1b9Co8HXWXy"
      },
      "source": [
        "### Encoder-Decoder Transformer\n",
        "\n",
        "- Implement the  `EncoderDecoderTransformer` class in `hw4lib/model/transformers.py`.\n",
        "- Then run the cell below to check your implementation."
      ]
    },
    {
      "cell_type": "code",
      "execution_count": 11,
      "metadata": {
        "id": "0ACVZWXrXWXy"
      },
      "outputs": [
        {
          "name": "stdout",
          "output_type": "stream",
          "text": [
            "\n",
            "\u001b[95m================================================================================\n",
            "Running tests for category: EncoderDecoderTransformer\n",
            "--------------------------------------------------------------------------------\u001b[0m\n",
            "\n",
            "\u001b[94m[01/01]    Running:  Test the encoder-decoder transformer\u001b[0m\n",
            "Testing initialization...\n",
            "Test Passed: All components initialized correctly\n",
            "Testing encode method...\n",
            "Test Passed: Encode method works correctly\n",
            "Testing decode method...\n",
            "Test Passed: Decode method works correctly\n",
            "Testing forward pass...\n",
            "Test Passed: Forward pass works correctly\n",
            "Testing encoder-decoder integration...\n",
            "Test Passed: Encoder-decoder integration works correctly\n",
            "Testing CTC integration...\n",
            "Test Passed: CTC integration works correctly\n",
            "Testing forward propagation order...\n",
            "Test Passed: Forward propagation order is correct\n",
            "\u001b[92m[01/01]    PASSED:   Test the encoder-decoder transformer\u001b[0m\n",
            "\n",
            "\n",
            "\u001b[95m================================================================================\n",
            "                                  Test Summary                                  \n",
            "================================================================================\u001b[0m\n",
            "\u001b[93mCategory:    EncoderDecoderTransformer     \n",
            "Results:     1/1 tests passed (100.0%)\u001b[0m\n"
          ]
        }
      ],
      "source": [
        "!python -m tests.test_transformer_encoder_decoder"
      ]
    },
    {
      "cell_type": "markdown",
      "metadata": {
        "id": "fxMaLdHdXWXy"
      },
      "source": [
        "## Decoding Implementation\n",
        "- We highly recommend you to implement the `generate_beam` method of the `SequenceGenerator` class in `hw4lib/decoding/sequence_generator.py`.\n",
        "- Then run the cell below to check your implementation.\n",
        "- `NOTE`: This is an optional but highly recommended task for `HW4P2` to ease the journey to high cutoffs!"
      ]
    },
    {
      "cell_type": "code",
      "execution_count": 3,
      "metadata": {
        "id": "HnAQO_VHXWXy"
      },
      "outputs": [
        {
          "name": "stdout",
          "output_type": "stream",
          "text": [
            "\n",
            "\u001b[95m================================================================================\n",
            "Running tests for category: Decoding\n",
            "--------------------------------------------------------------------------------\u001b[0m\n",
            "\n",
            "\u001b[94m[01/01]    Running:  Test beam decoding\u001b[0m\n",
            "Testing Single Batch Beam Search ...\n",
            "Beam 0  : generated: HELLO WORLD  | expected: HELLO WORLD \n",
            "Beam 1  : generated: YELLOW WORLD | expected: YELLOW WORLD\n",
            "Beam 2  : generated: MELLOW WORLD | expected: MELLOW WORLD\n",
            "Testing Multi Batch Beam Search ...\n",
            "Batch 0  : Beam 0  : generated: HELLO WORLD  | expected: HELLO WORLD \n",
            "Batch 0  : Beam 1  : generated: YELLOW WORLD | expected: YELLOW WORLD\n",
            "Batch 0  : Beam 2  : generated: MELLOW WORLD | expected: MELLOW WORLD\n",
            "Batch 1  : Beam 0  : generated: GOOD BYE     | expected: GOOD BYE    \n",
            "Batch 1  : Beam 1  : generated: GREAT DAY    | expected: GREAT DAY   \n",
            "Batch 1  : Beam 2  : generated: GUD NIGHT    | expected: GUD NIGHT   \n",
            "\u001b[92m[01/01]    PASSED:   Test beam decoding\u001b[0m\n",
            "\n",
            "\n",
            "\u001b[95m================================================================================\n",
            "                                  Test Summary                                  \n",
            "================================================================================\u001b[0m\n",
            "\u001b[93mCategory:    Decoding                      \n",
            "Results:     1/1 tests passed (100.0%)\u001b[0m\n"
          ]
        },
        {
          "name": "stderr",
          "output_type": "stream",
          "text": [
            "d:\\Study\\CMU\\25sp\\11685 Intro to Deep Learning\\Homework\\hw4\\hw4p1\\IDL-HW4\\hw4lib\\decoding\\sequence_generator.py:267: UserWarning: To copy construct from a tensor, it is recommended to use sourceTensor.clone().detach() or sourceTensor.clone().detach().requires_grad_(True), rather than torch.tensor(sourceTensor).\n",
            "  logp = torch.tensor(raw, device=device).log_softmax(dim=-1)\n"
          ]
        }
      ],
      "source": [
        "!python -m tests.test_decoding --mode beam"
      ]
    },
    {
      "cell_type": "markdown",
      "metadata": {
        "id": "Ze6Ufzt2XWXy"
      },
      "source": [
        "## Trainer Implementation\n",
        "You will have to do some minor in-filling for the `ASRTrainer` class in `hw4lib/trainers/asr_trainer.py` before you can use it.\n",
        "- Fill in the `TODO`s in the `__init__`.\n",
        "- Fill in the `TODO`s in the `_train_epoch`.\n",
        "- Fill in the `TODO`s in the `recognize` method.\n",
        "- Fill in the `TODO`s in the `_validate_epoch`.\n",
        "- Fill in the `TODO`s in the `train` method.\n",
        "- Fill in the `TODO`s in the `evaluate` method.\n",
        "\n",
        "`WARNING`: There are no test's for this. Implement carefully!"
      ]
    },
    {
      "cell_type": "markdown",
      "metadata": {
        "id": "d8CtOMbVXWXz"
      },
      "source": [
        "# Experiments\n",
        "From this point onwards you may want to switch to a `GPU` runtime.\n",
        "- `OBJECTIVE`: Optimize your model for `CER` on the test set."
      ]
    },
    {
      "cell_type": "markdown",
      "metadata": {
        "id": "h-P4qGdjXWXz"
      },
      "source": [
        "## Config\n",
        "- You can use the `config.yaml` file to set your config for your ablation study.\n",
        "\n",
        "---\n",
        "### Notes:\n",
        "\n",
        "- Set `tokenization: token_type:` to specify your desired tokenization strategy\n",
        "- You will need to set the root path to your `hw4p1_data` folder in `data: root:`. This will depend on your setup. For eg. if you are following out setup instruction:\n",
        "  - `PSC`: `\"/local/hw4_data/hw4p1_data\"`\n",
        "  - `Colab:`: `\"/content/hw4_data/hw4p1_data\"`\n",
        "  - `Kaggle:`: `\"/kaggle/input/s25-hw4-data/hw4p1_data\"`\n",
        "- There's extra configurations in the `optimizer` section which will only be relevant if you decide to use the `create_optimizer` function we've provided in `hw4lib/utils/create_optimizer.py`.\n",
        "- `BE CAREFUL` while setting numeric values. Eg. `1e-4` will get serialized to a `str` while `1.0e-4` gets serialized to float."
      ]
    },
    {
      "cell_type": "code",
      "execution_count": null,
      "metadata": {
        "id": "pkFcCs6VXWXz"
      },
      "outputs": [
        {
          "name": "stdout",
          "output_type": "stream",
          "text": [
            "Overwriting config.yaml\n"
          ]
        }
      ],
      "source": [
        "%%writefile config.yaml\n",
        "\n",
        "Name                      : \"Haowen Zheng\"\n",
        "\n",
        "###### Tokenization ------------------------------------------------------------\n",
        "tokenization:\n",
        "  token_type                : \"5k\"       # [char, 1k, 5k, 10k]\n",
        "  token_map :\n",
        "      'char': 'hw4lib/data/tokenizer_jsons/tokenizer_char.json'\n",
        "      '1k'  : 'hw4lib/data/tokenizer_jsons/tokenizer_1000.json'\n",
        "      '5k'  : 'hw4lib/data/tokenizer_jsons/tokenizer_5000.json'\n",
        "      '10k' : 'hw4lib/data/tokenizer_jsons/tokenizer_10000.json'\n",
        "\n",
        "###### Dataset -----------------------------------------------------------------\n",
        "data:\n",
        "  root                 : \"hw4_data_subset/hw4p2_data\"  # TODO: Set the root path of your data\n",
        "  train_partition      : \"train-clean-100\"  # paired text-speech for ASR pre-training\n",
        "  val_partition        : \"dev-clean\"        # paired text-speech for ASR pre-training\n",
        "  test_partition       : \"test-clean\"       # paired text-speech for ASR pre-training\n",
        "  subset               : 1.0                # Load a subset of the data (for debugging, testing, etc\n",
        "  batch_size           : 16           #\n",
        "  NUM_WORKERS          : 2            # Set to 0 for CPU\n",
        "  norm                 : 'global_mvn' # ['global_mvn', 'cepstral', 'none']\n",
        "  num_feats            : 80\n",
        "\n",
        "  ###### SpecAugment ---------------------------------------------------------------\n",
        "  specaug                   : False  # Set to True if you want to use SpecAugment\n",
        "  specaug_conf:\n",
        "    apply_freq_mask         : True\n",
        "    freq_mask_width_range   : 5\n",
        "    num_freq_mask           : 2\n",
        "    apply_time_mask         : True\n",
        "    time_mask_width_range   : 40\n",
        "    num_time_mask           : 2\n",
        "\n",
        "###### Network Specs -------------------------------------------------------------\n",
        "model: # Encoder-Decoder Transformer (HW4P2)\n",
        "  # Speech embedding parameters\n",
        "  input_dim: 80              # Speech feature dimension\n",
        "  time_reduction: 2          # Time dimension downsampling factor\n",
        "  reduction_method: 'conv'   # The source_embedding reduction method ['lstm', 'conv', 'both']\n",
        "\n",
        "  # Architecture parameters\n",
        "  d_model: 256           # Model dimension\n",
        "  num_encoder_layers: 2  # Number of encoder layers\n",
        "  num_decoder_layers: 2  # Number of decoder layers\n",
        "  num_encoder_heads: 4   # Number of encoder attention heads\n",
        "  num_decoder_heads: 4   # Number of decoder attention heads\n",
        "  d_ff_encoder: 1024     # Feed-forward dimension for encoder\n",
        "  d_ff_decoder: 1024     # Feed-forward dimension for decoder\n",
        "  skip_encoder_pe: False # Whether to skip positional encoding for encoder\n",
        "  skip_decoder_pe: False # Whether to skip positional encoding for decoder\n",
        "\n",
        "  # Common parameters\n",
        "  dropout: 0.0          # Dropout rate\n",
        "  layer_drop_rate: 0.0  # Layer dropout rate\n",
        "  weight_tying: False   # Whether to use weight tying\n",
        "\n",
        "###### Common Training Parameters ------------------------------------------------\n",
        "training:\n",
        "  use_wandb                   : True   # Toggle wandb logging\n",
        "  wandb_run_id                : \"none\" # \"none\" or \"run_id\"\n",
        "  resume                      : True   # Resume an existing run (run_id != 'none')\n",
        "  gradient_accumulation_steps : 1\n",
        "  wandb_project               : \"Set-Project-Name-Here\" # wandb project to log to\n",
        "\n",
        "###### Loss ----------------------------------------------------------------------\n",
        "loss: # Just good ol' CrossEntropy\n",
        "  label_smoothing: 0.0\n",
        "  ctc_weight: 0.2\n",
        "\n",
        "###### Optimizer -----------------------------------------------------------------\n",
        "optimizer:\n",
        "  name: \"adamw\" # Options: sgd, adam, adamw\n",
        "  lr: 0.0004    # Base learning rate\n",
        "\n",
        "  # Common parameters\n",
        "  weight_decay: 0.000001\n",
        "\n",
        "  # Parameter groups\n",
        "  # You can add more param groups as you want and set their learning rates and patterns\n",
        "  param_groups:\n",
        "    - name: self_attn\n",
        "      patterns: []  # Will match all parameters containing \"ffn\" and set their learning rate to 0.0002\n",
        "      lr: 0.0002    # LR for self_attn\n",
        "      layer_decay:\n",
        "        enabled: False\n",
        "        decay_rate: 0.8\n",
        "\n",
        "    - name: ffn\n",
        "      patterns: [] # Will match all parameters containing \"ffn\" and set their learning rate to 0.0002\n",
        "      lr: 0.0002   # LR for ffn\n",
        "      layer_decay:\n",
        "        enabled: False\n",
        "        decay_rate: 0.8\n",
        "\n",
        "  # Layer-wise learning rates\n",
        "  layer_decay:\n",
        "    enabled: False\n",
        "    decay_rate: 0.75\n",
        "\n",
        "  # SGD specific parameters\n",
        "  sgd:\n",
        "    momentum: 0.9\n",
        "    nesterov: True\n",
        "    dampening: 0\n",
        "\n",
        "  # Adam specific parameters\n",
        "  adam:\n",
        "    betas: [0.9, 0.999]\n",
        "    eps: 1.0e-8\n",
        "    amsgrad: False\n",
        "\n",
        "  # AdamW specific parameters\n",
        "  adamw:\n",
        "    betas: [0.9, 0.999]\n",
        "    eps: 1.0e-8\n",
        "    amsgrad: False\n",
        "\n",
        "###### Scheduler -----------------------------------------------------------------\n",
        "scheduler:\n",
        "  name: \"cosine\"  # Options: reduce_lr, cosine, cosine_warm\n",
        "\n",
        "  # ReduceLROnPlateau specific parameters\n",
        "  reduce_lr:\n",
        "    mode: \"min\"  # Options: min, max\n",
        "    factor: 0.1  # Factor to reduce learning rate by\n",
        "    patience: 10  # Number of epochs with no improvement after which LR will be reduced\n",
        "    threshold: 0.0001  # Threshold for measuring the new optimum\n",
        "    threshold_mode: \"rel\"  # Options: rel, abs\n",
        "    cooldown: 0  # Number of epochs to wait before resuming normal operation\n",
        "    min_lr: 0.0000001  # Minimum learning rate\n",
        "    eps: 1e-8  # Minimal decay applied to lr\n",
        "\n",
        "  # CosineAnnealingLR specific parameters\n",
        "  cosine:\n",
        "    T_max: 15  # Maximum number of iterations\n",
        "    eta_min: 0.0000001  # Minimum learning rate\n",
        "    last_epoch: -1\n",
        "\n",
        "  # CosineAnnealingWarmRestarts specific parameters\n",
        "  cosine_warm:\n",
        "    T_0: 10    # Number of iterations for the first restart\n",
        "    T_mult: 10 # Factor increasing T_i after each restart\n",
        "    eta_min: 0.0000001  # Minimum learning rate\n",
        "    last_epoch: -1\n",
        "\n",
        "  # Warmup parameters (can be used with any scheduler)\n",
        "  warmup:\n",
        "    enabled: True\n",
        "    type: \"exponential\"  # Options: linear, exponential\n",
        "    epochs: 5\n",
        "    start_factor: 0.1\n",
        "    end_factor: 1.0\n"
      ]
    },
    {
      "cell_type": "code",
      "execution_count": 3,
      "metadata": {
        "id": "ycLt56sWXWXz"
      },
      "outputs": [],
      "source": [
        "with open('config.yaml', 'r') as file:\n",
        "    config = yaml.safe_load(file)"
      ]
    },
    {
      "cell_type": "markdown",
      "metadata": {
        "id": "Lq8X3BcuXWXz"
      },
      "source": [
        "## Tokenizer"
      ]
    },
    {
      "cell_type": "code",
      "execution_count": 4,
      "metadata": {
        "id": "gstAD2BGXWXz"
      },
      "outputs": [
        {
          "name": "stdout",
          "output_type": "stream",
          "text": [
            "================================================================================\n",
            "                          Tokenizer Configuration (5k)                          \n",
            "--------------------------------------------------------------------------------\n",
            "Vocabulary size:     5000\n",
            "\n",
            "Special Tokens:\n",
            "PAD:              0\n",
            "UNK:              1\n",
            "MASK:             2\n",
            "SOS:              3\n",
            "EOS:              4\n",
            "BLANK:            5\n",
            "\n",
            "Validation Example:\n",
            "--------------------------------------------------------------------------------\n",
            "Input text:  [SOS]HI DEEP LEARNERS[EOS]\n",
            "Tokens:      ['[SOS]', 'H', 'I', 'ĠDEEP', 'ĠLEARN', 'ERS', '[EOS]']\n",
            "Token IDs:   [3, 14, 15, 1169, 2545, 214, 4]\n",
            "Decoded:     [SOS]HI DEEP LEARNERS[EOS]\n",
            "================================================================================\n"
          ]
        }
      ],
      "source": [
        "Tokenizer = H4Tokenizer(\n",
        "    token_map  = config['tokenization']['token_map'],\n",
        "    token_type = config['tokenization']['token_type']\n",
        ")"
      ]
    },
    {
      "cell_type": "markdown",
      "metadata": {
        "id": "5hCLVwnaXWXz"
      },
      "source": [
        "## Datasets"
      ]
    },
    {
      "cell_type": "code",
      "execution_count": 5,
      "metadata": {
        "id": "DwmZydebXWXz"
      },
      "outputs": [
        {
          "name": "stdout",
          "output_type": "stream",
          "text": [
            "Loading data for train-clean-100 partition...\n"
          ]
        },
        {
          "name": "stderr",
          "output_type": "stream",
          "text": [
            "100%|███████████████████████████████████████████████████████████████████████████████████████████████████████████████████| 28539/28539 [00:22<00:00, 1256.60it/s]\n"
          ]
        },
        {
          "name": "stdout",
          "output_type": "stream",
          "text": [
            "Global stats computed from training set.\n",
            "Loading data for dev-clean partition...\n"
          ]
        },
        {
          "name": "stderr",
          "output_type": "stream",
          "text": [
            "100%|█████████████████████████████████████████████████████████████████████████████████████████████████████████████████████| 2703/2703 [00:01<00:00, 2159.46it/s]\n"
          ]
        },
        {
          "name": "stdout",
          "output_type": "stream",
          "text": [
            "Loading data for test-clean partition...\n"
          ]
        },
        {
          "name": "stderr",
          "output_type": "stream",
          "text": [
            "100%|█████████████████████████████████████████████████████████████████████████████████████████████████████████████████████| 2620/2620 [00:00<00:00, 3611.50it/s]\n"
          ]
        },
        {
          "data": {
            "text/plain": [
              "550"
            ]
          },
          "execution_count": 5,
          "metadata": {},
          "output_type": "execute_result"
        }
      ],
      "source": [
        "train_dataset = ASRDataset(\n",
        "    partition=config['data']['train_partition'],\n",
        "    config=config['data'],\n",
        "    tokenizer=Tokenizer,\n",
        "    isTrainPartition=True,\n",
        "    global_stats=None  # Will compute stats from training data\n",
        ")\n",
        "\n",
        "# TODO: Get the computed global stats from training set\n",
        "global_stats = None\n",
        "if config['data']['norm'] == 'global_mvn':\n",
        "    global_stats = (train_dataset.global_mean, train_dataset.global_std)\n",
        "    print(f\"Global stats computed from training set.\")\n",
        "\n",
        "val_dataset = ASRDataset(\n",
        "    partition=config['data']['val_partition'],\n",
        "    config=config['data'],\n",
        "    tokenizer=Tokenizer,\n",
        "    isTrainPartition=False,\n",
        "    global_stats=global_stats\n",
        ")\n",
        "\n",
        "test_dataset = ASRDataset(\n",
        "    partition=config['data']['test_partition'],\n",
        "    config=config['data'],\n",
        "    tokenizer=Tokenizer,\n",
        "    isTrainPartition=False,\n",
        "    global_stats=global_stats\n",
        ")\n",
        "\n",
        "gc.collect()"
      ]
    },
    {
      "cell_type": "markdown",
      "metadata": {
        "id": "eAFMrdMLXWXz"
      },
      "source": [
        "## Dataloaders"
      ]
    },
    {
      "cell_type": "code",
      "execution_count": 6,
      "metadata": {
        "id": "SGRynmFPXWXz"
      },
      "outputs": [
        {
          "data": {
            "text/plain": [
              "0"
            ]
          },
          "execution_count": 6,
          "metadata": {},
          "output_type": "execute_result"
        }
      ],
      "source": [
        "train_loader    = DataLoader(\n",
        "    dataset     = train_dataset,\n",
        "    batch_size  = config['data']['batch_size'],\n",
        "    shuffle     = True,\n",
        "    num_workers = config['data']['NUM_WORKERS'] if device == 'cuda' else 0,\n",
        "    pin_memory  = True,\n",
        "    collate_fn  = train_dataset.collate_fn\n",
        ")\n",
        "\n",
        "val_loader      = DataLoader(\n",
        "    dataset     = val_dataset,\n",
        "    batch_size  = config['data']['batch_size'],\n",
        "    shuffle     = False,\n",
        "    num_workers = config['data']['NUM_WORKERS'] if device == 'cuda' else 0,\n",
        "    pin_memory  = True,\n",
        "    collate_fn  = val_dataset.collate_fn\n",
        ")\n",
        "\n",
        "test_loader     = DataLoader(\n",
        "    dataset     = test_dataset,\n",
        "    batch_size  = config['data']['batch_size'],\n",
        "    shuffle     = False,\n",
        "    num_workers = config['data']['NUM_WORKERS'] if device == 'cuda' else 0,\n",
        "    pin_memory  = True,\n",
        "    collate_fn  = test_dataset.collate_fn\n",
        ")\n",
        "\n",
        "gc.collect()"
      ]
    },
    {
      "cell_type": "markdown",
      "metadata": {
        "id": "6YILqrSuXWX0"
      },
      "source": [
        "### Dataloader Verification"
      ]
    },
    {
      "cell_type": "code",
      "execution_count": 7,
      "metadata": {
        "id": "awodg0EWXWX0"
      },
      "outputs": [
        {
          "name": "stdout",
          "output_type": "stream",
          "text": [
            "==================================================\n",
            "             Dataloader Verification              \n",
            "==================================================\n",
            "Dataloader Partition     : train-clean-100\n",
            "--------------------------------------------------\n",
            "Number of Batches        : 1784\n",
            "Batch Size               : 16\n",
            "--------------------------------------------------\n",
            "Checking shapes of the data...                    \n",
            "\n"
          ]
        },
        {
          "name": "stdout",
          "output_type": "stream",
          "text": [
            "Feature Shape            : [16, 2056, 80]\n",
            "Shifted Transcript Shape : [16, 69]\n",
            "Golden Transcript Shape  : [16, 69]\n",
            "Feature Lengths Shape    : [16]\n",
            "Transcript Lengths Shape : [16]\n",
            "--------------------------------------------------\n",
            "Max Feature Length       : 3066\n",
            "Max Transcript Length    : 100\n",
            "Avg. Chars per Token     : 4.24\n",
            "==================================================\n"
          ]
        }
      ],
      "source": [
        "verify_dataloader(train_loader)"
      ]
    },
    {
      "cell_type": "code",
      "execution_count": 8,
      "metadata": {
        "id": "rPNijuHBXWX0"
      },
      "outputs": [
        {
          "name": "stdout",
          "output_type": "stream",
          "text": [
            "==================================================\n",
            "             Dataloader Verification              \n",
            "==================================================\n",
            "Dataloader Partition     : dev-clean\n",
            "--------------------------------------------------\n",
            "Number of Batches        : 169\n",
            "Batch Size               : 16\n",
            "--------------------------------------------------\n",
            "Checking shapes of the data...                    \n",
            "\n",
            "Feature Shape            : [16, 3676, 80]\n",
            "Shifted Transcript Shape : [16, 104]\n",
            "Golden Transcript Shape  : [16, 104]\n",
            "Feature Lengths Shape    : [16]\n",
            "Transcript Lengths Shape : [16]\n",
            "--------------------------------------------------\n",
            "Max Feature Length       : 4081\n",
            "Max Transcript Length    : 138\n",
            "Avg. Chars per Token     : 4.17\n",
            "==================================================\n"
          ]
        }
      ],
      "source": [
        "verify_dataloader(val_loader)"
      ]
    },
    {
      "cell_type": "code",
      "execution_count": 9,
      "metadata": {
        "id": "NYjQOBj2XWX0"
      },
      "outputs": [
        {
          "name": "stdout",
          "output_type": "stream",
          "text": [
            "==================================================\n",
            "             Dataloader Verification              \n",
            "==================================================\n",
            "Dataloader Partition     : test-clean\n",
            "--------------------------------------------------\n",
            "Number of Batches        : 164\n",
            "Batch Size               : 16\n",
            "--------------------------------------------------\n",
            "Checking shapes of the data...                    \n",
            "\n",
            "Feature Shape            : [16, 1556, 80]\n",
            "Feature Lengths Shape    : [16]\n",
            "--------------------------------------------------\n",
            "Max Feature Length       : 4370\n",
            "Max Transcript Length    : 0\n",
            "Avg. Chars per Token     : 0.00\n",
            "==================================================\n"
          ]
        }
      ],
      "source": [
        "verify_dataloader(test_loader)"
      ]
    },
    {
      "cell_type": "markdown",
      "metadata": {
        "id": "F8_T2fH3XWX0"
      },
      "source": [
        "## Calculate Max Lengths\n",
        "Calculating the maximum transcript length across your dataset is a crucial step when working with certain transformer models.\n",
        "-  We'll use sinusoidal positional encodings that must be precomputed up to a fixed maximum length.\n",
        "- This maximum length is a hyperparameter that determines:\n",
        "  - How long of a sequence your model can process\n",
        "  - The size of your positional encoding matrix\n",
        "  - Memory requirements during training and inference\n",
        "- `Requirements`: For this assignment, ensure your positional encodings can accommodate at least the longest sequence in your dataset to prevent truncation. However, you can set this value higher if you anticipate using your languagemodel to work with longer sequences in future tasks (hint: this might be useful for P2! 😉).\n",
        "- `NOTE`: We'll be using the same positional encoding matrix for all sequences in your dataset. Take this into account when setting your maximum length."
      ]
    },
    {
      "cell_type": "code",
      "execution_count": 10,
      "metadata": {
        "id": "guY_wgFjXWX0"
      },
      "outputs": [
        {
          "name": "stdout",
          "output_type": "stream",
          "text": [
            "==================================================\n",
            "Max Feature Length             : 4370\n",
            "Max Transcript Length          : 138\n",
            "Overall Max Length             : 4370\n",
            "==================================================\n"
          ]
        }
      ],
      "source": [
        "max_feat_len       = max(train_dataset.feat_max_len, val_dataset.feat_max_len, test_dataset.feat_max_len)\n",
        "max_transcript_len = max(train_dataset.text_max_len, val_dataset.text_max_len, test_dataset.text_max_len)\n",
        "max_len            = max(max_feat_len, max_transcript_len)\n",
        "\n",
        "print(\"=\"*50)\n",
        "print(f\"{'Max Feature Length':<30} : {max_feat_len}\")\n",
        "print(f\"{'Max Transcript Length':<30} : {max_transcript_len}\")\n",
        "print(f\"{'Overall Max Length':<30} : {max_len}\")\n",
        "print(\"=\"*50)"
      ]
    },
    {
      "cell_type": "markdown",
      "metadata": {
        "id": "zmryM_AHXWX0"
      },
      "source": [
        "## Wandb"
      ]
    },
    {
      "cell_type": "code",
      "execution_count": 11,
      "metadata": {
        "id": "5fEQ0Ns_XWX0"
      },
      "outputs": [
        {
          "name": "stderr",
          "output_type": "stream",
          "text": [
            "\u001b[34m\u001b[1mwandb\u001b[0m: Using wandb-core as the SDK backend.  Please refer to https://wandb.me/wandb-core for more information.\n",
            "\u001b[34m\u001b[1mwandb\u001b[0m: \u001b[33mWARNING\u001b[0m If you're specifying your api key in code, ensure this code is not shared publicly.\n",
            "\u001b[34m\u001b[1mwandb\u001b[0m: \u001b[33mWARNING\u001b[0m Consider setting the WANDB_API_KEY environment variable, or running `wandb login` from the command line.\n",
            "\u001b[34m\u001b[1mwandb\u001b[0m: Appending key for api.wandb.ai to your netrc file: /jet/home/hzheng7/.netrc\n",
            "\u001b[34m\u001b[1mwandb\u001b[0m: Currently logged in as: \u001b[33msesamerin\u001b[0m (\u001b[33msesamerin-carnegie-mellon-university\u001b[0m) to \u001b[32mhttps://api.wandb.ai\u001b[0m. Use \u001b[1m`wandb login --relogin`\u001b[0m to force relogin\n"
          ]
        },
        {
          "data": {
            "text/plain": [
              "True"
            ]
          },
          "execution_count": 11,
          "metadata": {},
          "output_type": "execute_result"
        }
      ],
      "source": [
        "wandb.login(key=\"9e52bd38ba821ee1125281ec51fb620839da8c9d\")"
      ]
    },
    {
      "cell_type": "markdown",
      "metadata": {
        "id": "ZXcjkHQ_XWX0"
      },
      "source": [
        "## Training\n",
        "Every time you run the trainer, it will create a new directory in the `expts` folder with the following structure:\n",
        "```\n",
        "expts/\n",
        "    └── {run_name}/\n",
        "        ├── config.yaml\n",
        "        ├── model_arch.txt\n",
        "        ├── checkpoints/\n",
        "        │   ├── checkpoint-best-metric-model.pth\n",
        "        │   └── checkpoint-last-epoch-model.pth\n",
        "        ├── attn/\n",
        "        │   └── {attention visualizations}\n",
        "        └── text/\n",
        "            └── {generated text outputs}\n",
        "```\n"
      ]
    },
    {
      "cell_type": "markdown",
      "metadata": {
        "id": "DS7fwKk5XWX0"
      },
      "source": [
        "### Training Strategy 1: Cold-Start Trainer"
      ]
    },
    {
      "cell_type": "markdown",
      "metadata": {
        "id": "B-y9NyN4XWX0"
      },
      "source": [
        "#### Model Load (Default)"
      ]
    },
    {
      "cell_type": "code",
      "execution_count": 12,
      "metadata": {
        "id": "CTSjyngVXWX0"
      },
      "outputs": [
        {
          "name": "stdout",
          "output_type": "stream",
          "text": [
            "===============================================================================================\n",
            "Layer (type:depth-idx)                        Output Shape              Param #\n",
            "===============================================================================================\n",
            "EncoderDecoderTransformer                     [16, 75, 5000]            --\n",
            "├─SpeechEmbedding: 1-1                        [16, 526, 288]            --\n",
            "│    └─StackedBLSTMEmbedding: 2-1             [16, 526, 288]            --\n",
            "│    │    └─LSTM: 3-1                         [25833, 288]              260,352\n",
            "│    │    └─MaxPool1d: 3-2                    [16, 288, 1053]           --\n",
            "│    │    └─LSTM: 3-3                         [12914, 288]              499,968\n",
            "│    │    └─MaxPool1d: 3-4                    [16, 288, 526]            --\n",
            "│    │    └─Linear: 3-5                       [16, 526, 288]            83,232\n",
            "│    │    └─Dropout: 3-6                      [16, 526, 288]            --\n",
            "├─PositionalEncoding: 1-2                     [16, 526, 288]            --\n",
            "├─Dropout: 1-3                                [16, 526, 288]            --\n",
            "├─ModuleList: 1-4                             --                        --\n",
            "│    └─SelfAttentionEncoderLayer: 2-2         [16, 526, 288]            --\n",
            "│    │    └─SelfAttentionLayer: 3-7           [16, 526, 288]            333,504\n",
            "│    │    └─FeedForwardLayer: 3-8             [16, 526, 288]            665,568\n",
            "│    └─SelfAttentionEncoderLayer: 2-3         [16, 526, 288]            --\n",
            "│    │    └─SelfAttentionLayer: 3-9           [16, 526, 288]            333,504\n",
            "│    │    └─FeedForwardLayer: 3-10            [16, 526, 288]            665,568\n",
            "│    └─SelfAttentionEncoderLayer: 2-4         [16, 526, 288]            --\n",
            "│    │    └─SelfAttentionLayer: 3-11          [16, 526, 288]            333,504\n",
            "│    │    └─FeedForwardLayer: 3-12            [16, 526, 288]            665,568\n",
            "│    └─SelfAttentionEncoderLayer: 2-5         [16, 526, 288]            --\n",
            "│    │    └─SelfAttentionLayer: 3-13          [16, 526, 288]            333,504\n",
            "│    │    └─FeedForwardLayer: 3-14            [16, 526, 288]            665,568\n",
            "├─LayerNorm: 1-5                              [16, 526, 288]            576\n",
            "├─Sequential: 1-6                             [526, 16, 5000]           --\n",
            "│    └─Linear: 2-6                            [526, 16, 5000]           1,445,000\n",
            "│    └─LogSoftmax: 2-7                        [526, 16, 5000]           --\n",
            "├─Embedding: 1-7                              [16, 75, 288]             1,440,000\n",
            "├─PositionalEncoding: 1-8                     [16, 75, 288]             --\n",
            "├─Dropout: 1-9                                [16, 75, 288]             --\n",
            "├─ModuleList: 1-10                            --                        --\n",
            "│    └─CrossAttentionDecoderLayer: 2-8        [16, 75, 288]             --\n",
            "│    │    └─SelfAttentionLayer: 3-15          [16, 75, 288]             333,504\n",
            "│    │    └─CrossAttentionLayer: 3-16         [16, 75, 288]             333,504\n",
            "│    │    └─FeedForwardLayer: 3-17            [16, 75, 288]             665,568\n",
            "│    └─CrossAttentionDecoderLayer: 2-9        [16, 75, 288]             --\n",
            "│    │    └─SelfAttentionLayer: 3-18          [16, 75, 288]             333,504\n",
            "│    │    └─CrossAttentionLayer: 3-19         [16, 75, 288]             333,504\n",
            "│    │    └─FeedForwardLayer: 3-20            [16, 75, 288]             665,568\n",
            "│    └─CrossAttentionDecoderLayer: 2-10       [16, 75, 288]             --\n",
            "│    │    └─SelfAttentionLayer: 3-21          [16, 75, 288]             333,504\n",
            "│    │    └─CrossAttentionLayer: 3-22         [16, 75, 288]             333,504\n",
            "│    │    └─FeedForwardLayer: 3-23            [16, 75, 288]             665,568\n",
            "│    └─CrossAttentionDecoderLayer: 2-11       [16, 75, 288]             --\n",
            "│    │    └─SelfAttentionLayer: 3-24          [16, 75, 288]             333,504\n",
            "│    │    └─CrossAttentionLayer: 3-25         [16, 75, 288]             333,504\n",
            "│    │    └─FeedForwardLayer: 3-26            [16, 75, 288]             665,568\n",
            "├─LayerNorm: 1-11                             [16, 75, 288]             576\n",
            "├─Linear: 1-12                                [16, 75, 5000]            1,445,000\n",
            "===============================================================================================\n",
            "Total params: 14,501,296\n",
            "Trainable params: 14,501,296\n",
            "Non-trainable params: 0\n",
            "Total mult-adds (Units.TERABYTES): 3.80\n",
            "===============================================================================================\n",
            "Input size (MB): 10.79\n",
            "Forward/backward pass size (MB): 1149.63\n",
            "Params size (MB): 42.02\n",
            "Estimated Total Size (MB): 1202.45\n",
            "===============================================================================================\n"
          ]
        }
      ],
      "source": [
        "model_config = config['model'].copy()\n",
        "model_config.update({\n",
        "    'max_len': max_len,\n",
        "    'num_classes': Tokenizer.vocab_size\n",
        "})\n",
        "\n",
        "model = EncoderDecoderTransformer(**model_config)\n",
        "\n",
        "# Get some inputs from the train dataloader\n",
        "for batch in train_loader:\n",
        "    padded_feats, padded_shifted, padded_golden, feat_lengths, transcript_lengths = batch\n",
        "    break\n",
        "\n",
        "\n",
        "model_stats = summary(model, input_data=[padded_feats, padded_shifted, feat_lengths, transcript_lengths])\n",
        "print(model_stats)"
      ]
    },
    {
      "cell_type": "markdown",
      "metadata": {
        "id": "FN6wc57eXWX1"
      },
      "source": [
        "#### Initialize Trainer\n",
        "\n",
        "If you need to reload the model from a checkpoint, you can do so by calling the `load_checkpoint` method.\n",
        "\n",
        "```python\n",
        "checkpoint_path = \"path/to/checkpoint.pth\"\n",
        "trainer.load_checkpoint(checkpoint_path)\n",
        "```\n"
      ]
    },
    {
      "cell_type": "code",
      "execution_count": 15,
      "metadata": {
        "id": "1eg-NsHzXWX1"
      },
      "outputs": [
        {
          "name": "stdout",
          "output_type": "stream",
          "text": [
            "Using device: cuda\n"
          ]
        },
        {
          "data": {
            "text/html": [],
            "text/plain": [
              "<IPython.core.display.HTML object>"
            ]
          },
          "metadata": {},
          "output_type": "display_data"
        },
        {
          "data": {
            "text/html": [
              " View run <strong style=\"color:#cdcd00\">hw4p2try2</strong> at: <a href='https://wandb.ai/sesamerin-carnegie-mellon-university/HW4P2-ASR/runs/fwxjheh6' target=\"_blank\">https://wandb.ai/sesamerin-carnegie-mellon-university/HW4P2-ASR/runs/fwxjheh6</a><br> View project at: <a href='https://wandb.ai/sesamerin-carnegie-mellon-university/HW4P2-ASR' target=\"_blank\">https://wandb.ai/sesamerin-carnegie-mellon-university/HW4P2-ASR</a><br>Synced 5 W&B file(s), 0 media file(s), 0 artifact file(s) and 0 other file(s)"
            ],
            "text/plain": [
              "<IPython.core.display.HTML object>"
            ]
          },
          "metadata": {},
          "output_type": "display_data"
        },
        {
          "data": {
            "text/html": [
              "Find logs at: <code>./wandb/run-20250425_123800-fwxjheh6/logs</code>"
            ],
            "text/plain": [
              "<IPython.core.display.HTML object>"
            ]
          },
          "metadata": {},
          "output_type": "display_data"
        },
        {
          "data": {
            "text/html": [
              "Tracking run with wandb version 0.19.9"
            ],
            "text/plain": [
              "<IPython.core.display.HTML object>"
            ]
          },
          "metadata": {},
          "output_type": "display_data"
        },
        {
          "data": {
            "text/html": [
              "Run data is saved locally in <code>/jet/home/hzheng7/11785/IDL-HW4/wandb/run-20250425_123939-fgqbmml0</code>"
            ],
            "text/plain": [
              "<IPython.core.display.HTML object>"
            ]
          },
          "metadata": {},
          "output_type": "display_data"
        },
        {
          "data": {
            "text/html": [
              "Syncing run <strong><a href='https://wandb.ai/sesamerin-carnegie-mellon-university/HW4P2-ASR/runs/fgqbmml0' target=\"_blank\">hw4p2full</a></strong> to <a href='https://wandb.ai/sesamerin-carnegie-mellon-university/HW4P2-ASR' target=\"_blank\">Weights & Biases</a> (<a href='https://wandb.me/developer-guide' target=\"_blank\">docs</a>)<br>"
            ],
            "text/plain": [
              "<IPython.core.display.HTML object>"
            ]
          },
          "metadata": {},
          "output_type": "display_data"
        },
        {
          "data": {
            "text/html": [
              " View project at <a href='https://wandb.ai/sesamerin-carnegie-mellon-university/HW4P2-ASR' target=\"_blank\">https://wandb.ai/sesamerin-carnegie-mellon-university/HW4P2-ASR</a>"
            ],
            "text/plain": [
              "<IPython.core.display.HTML object>"
            ]
          },
          "metadata": {},
          "output_type": "display_data"
        },
        {
          "data": {
            "text/html": [
              " View run at <a href='https://wandb.ai/sesamerin-carnegie-mellon-university/HW4P2-ASR/runs/fgqbmml0' target=\"_blank\">https://wandb.ai/sesamerin-carnegie-mellon-university/HW4P2-ASR/runs/fgqbmml0</a>"
            ],
            "text/plain": [
              "<IPython.core.display.HTML object>"
            ]
          },
          "metadata": {},
          "output_type": "display_data"
        },
        {
          "name": "stdout",
          "output_type": "stream",
          "text": [
            "\n",
            "🔧 Configuring Optimizer:\n",
            "├── Type: ADAMW\n",
            "├── Base LR: 0.0007\n",
            "├── Weight Decay: 1e-06\n",
            "├── Parameter Groups:\n",
            "│   ├── Group: self_attn\n",
            "│   │   ├── LR: 0.00035\n",
            "│   │   └── Patterns: []\n",
            "│   ├── Group: ffn\n",
            "│   │   ├── LR: 0.00035\n",
            "│   │   └── Patterns: []\n",
            "│   └── Default Group (unmatched parameters)\n",
            "└── AdamW Specific:\n",
            "    ├── Betas: [0.9, 0.98]\n",
            "    ├── Epsilon: 1e-08\n",
            "    └── AMSGrad: False\n"
          ]
        }
      ],
      "source": [
        "trainer = ASRTrainer(\n",
        "    model=model,\n",
        "    tokenizer=Tokenizer,\n",
        "    config=config,\n",
        "    run_name=\"hw4p2full\",\n",
        "    config_file=\"config.yaml\",\n",
        "    device=device\n",
        ")"
      ]
    },
    {
      "cell_type": "code",
      "execution_count": 16,
      "metadata": {},
      "outputs": [
        {
          "name": "stdout",
          "output_type": "stream",
          "text": [
            "Checkpoint loaded from epoch 0\n",
            "Successfully loaded: model, optimizer, scaler, training_state\n"
          ]
        }
      ],
      "source": [
        "checkpoint_path = \"checkpoint-best-metric-model.pth\"\n",
        "trainer.load_checkpoint(checkpoint_path)"
      ]
    },
    {
      "cell_type": "markdown",
      "metadata": {
        "id": "qiQSYD7jXWX1"
      },
      "source": [
        "### Setup Optimizer and Scheduler\n",
        "\n",
        "You can set your own optimizer and scheduler by setting the class members in the `LMTrainer` class.\n",
        "Eg:\n",
        "```python\n",
        "trainer.optimizer = optim.AdamW(model.parameters(), lr=config['optimizer']['lr'], weight_decay=config['optimizer']['weight_decay'])\n",
        "trainer.scheduler = optim.lr_scheduler.CosineAnnealingLR(trainer.optimizer, T_max=config['training']['epochs'])\n",
        "```\n",
        "\n",
        "We also provide a utility function to create your own optimizer and scheduler with the congig and some extra bells and whistles. You are free to use it or not. Do read their code and documentation to understand how it works (`hw4lib/utils/*`).\n"
      ]
    },
    {
      "cell_type": "markdown",
      "metadata": {
        "id": "M_IQUFhmXWX1"
      },
      "source": [
        "#### Setting up the optimizer"
      ]
    },
    {
      "cell_type": "code",
      "execution_count": 17,
      "metadata": {
        "id": "F1mMBVjrXWX1"
      },
      "outputs": [
        {
          "name": "stdout",
          "output_type": "stream",
          "text": [
            "\n",
            "🔧 Configuring Optimizer:\n",
            "├── Type: ADAMW\n",
            "├── Base LR: 0.0007\n",
            "├── Weight Decay: 1e-06\n",
            "├── Parameter Groups:\n",
            "│   ├── Group: self_attn\n",
            "│   │   ├── LR: 0.00035\n",
            "│   │   └── Patterns: []\n",
            "│   ├── Group: ffn\n",
            "│   │   ├── LR: 0.00035\n",
            "│   │   └── Patterns: []\n",
            "│   └── Default Group (unmatched parameters)\n",
            "└── AdamW Specific:\n",
            "    ├── Betas: [0.9, 0.98]\n",
            "    ├── Epsilon: 1e-08\n",
            "    └── AMSGrad: False\n"
          ]
        }
      ],
      "source": [
        "trainer.optimizer = create_optimizer(\n",
        "    model=model,\n",
        "    opt_config=config['optimizer']\n",
        ")"
      ]
    },
    {
      "cell_type": "markdown",
      "metadata": {
        "id": "_h4o2qWEXWX1"
      },
      "source": [
        "#### Creating a test scheduler and plotting the learning rate schedule"
      ]
    },
    {
      "cell_type": "code",
      "execution_count": 18,
      "metadata": {
        "id": "ilPlvS6EXWX1"
      },
      "outputs": [
        {
          "name": "stdout",
          "output_type": "stream",
          "text": [
            "\n",
            "📈 Configuring Learning Rate Scheduler:\n",
            "├── Type: COSINE\n",
            "├── Cosine Annealing Settings:\n",
            "│   ├── T_max: 40 epochs (71360 steps)\n",
            "│   └── Min LR: 0.0\n",
            "├── Warmup Settings:\n",
            "│   ├── Duration: 5 epochs (4460 steps)\n",
            "│   ├── Start Factor: 0.1\n",
            "│   └── End Factor: 1.0\n",
            "Warning: Only showing 5 out of 146 parameter groups for clarity\n"
          ]
        },
        {
          "name": "stderr",
          "output_type": "stream",
          "text": [
            "/jet/home/psamal/hw_envs/idl_hw4/lib/python3.12/site-packages/torch/optim/lr_scheduler.py:240: UserWarning: The epoch parameter in `scheduler.step()` was not necessary and is being deprecated where possible. Please use `scheduler.step()` to step the scheduler. During the deprecation, if epoch is different from None, the closed form is used instead of the new chainable form, where available. Please open an issue if you are unable to replicate your use case: https://github.com/pytorch/pytorch/issues/new/choose.\n",
            "  warnings.warn(EPOCH_DEPRECATION_WARNING, UserWarning)\n"
          ]
        },
        {
          "data": {
            "image/png": "[encoded data removed]",
            "text/plain": [
              "<Figure size 1200x400 with 2 Axes>"
            ]
          },
          "metadata": {},
          "output_type": "display_data"
        }
      ],
      "source": [
        "test_scheduler = create_scheduler(\n",
        "    optimizer=trainer.optimizer,\n",
        "    scheduler_config=config['scheduler'],\n",
        "    train_loader=train_loader,\n",
        "    gradient_accumulation_steps=config['training']['gradient_accumulation_steps']\n",
        ")\n",
        "\n",
        "plot_lr_schedule(\n",
        "    scheduler=test_scheduler,\n",
        "    num_epochs=20,\n",
        "    train_loader=train_loader,\n",
        "    gradient_accumulation_steps=config['training']['gradient_accumulation_steps']\n",
        ")"
      ]
    },
    {
      "cell_type": "markdown",
      "metadata": {
        "id": "m1qQK403XWX1"
      },
      "source": [
        "#### Setting up the scheduler"
      ]
    },
    {
      "cell_type": "code",
      "execution_count": 19,
      "metadata": {
        "id": "H3-MTweSXWX2"
      },
      "outputs": [
        {
          "name": "stdout",
          "output_type": "stream",
          "text": [
            "\n",
            "📈 Configuring Learning Rate Scheduler:\n",
            "├── Type: COSINE\n",
            "├── Cosine Annealing Settings:\n",
            "│   ├── T_max: 40 epochs (71360 steps)\n",
            "│   └── Min LR: 0.0\n",
            "├── Warmup Settings:\n",
            "│   ├── Duration: 5 epochs (4460 steps)\n",
            "│   ├── Start Factor: 0.1\n",
            "│   └── End Factor: 1.0\n"
          ]
        }
      ],
      "source": [
        "trainer.scheduler = create_scheduler(\n",
        "    optimizer=trainer.optimizer,\n",
        "    scheduler_config=config['scheduler'],\n",
        "    train_loader=train_loader,\n",
        "    gradient_accumulation_steps=config['training']['gradient_accumulation_steps']\n",
        ")"
      ]
    },
    {
      "cell_type": "markdown",
      "metadata": {
        "id": "9y3ASKqWXWX2"
      },
      "source": [
        "#### Train\n",
        "- Set your epochs"
      ]
    },
    {
      "cell_type": "code",
      "execution_count": null,
      "metadata": {},
      "outputs": [
        {
          "data": {
            "text/html": [
              "Tracking run with wandb version 0.19.9"
            ],
            "text/plain": [
              "<IPython.core.display.HTML object>"
            ]
          },
          "metadata": {},
          "output_type": "display_data"
        },
        {
          "data": {
            "text/html": [
              "Run data is saved locally in <code>/jet/home/hzheng7/11785/IDL-HW4/wandb/run-20250424_102442-5i205rky</code>"
            ],
            "text/plain": [
              "<IPython.core.display.HTML object>"
            ]
          },
          "metadata": {},
          "output_type": "display_data"
        },
        {
          "data": {
            "text/html": [
              "Syncing run <strong><a href='https://wandb.ai/sesamerin-carnegie-mellon-university/HW4P2-ASR/runs/5i205rky' target=\"_blank\">hw4p2full_cont</a></strong> to <a href='https://wandb.ai/sesamerin-carnegie-mellon-university/HW4P2-ASR' target=\"_blank\">Weights & Biases</a> (<a href='https://wandb.me/developer-guide' target=\"_blank\">docs</a>)<br>"
            ],
            "text/plain": [
              "<IPython.core.display.HTML object>"
            ]
          },
          "metadata": {},
          "output_type": "display_data"
        },
        {
          "data": {
            "text/html": [
              " View project at <a href='https://wandb.ai/sesamerin-carnegie-mellon-university/HW4P2-ASR' target=\"_blank\">https://wandb.ai/sesamerin-carnegie-mellon-university/HW4P2-ASR</a>"
            ],
            "text/plain": [
              "<IPython.core.display.HTML object>"
            ]
          },
          "metadata": {},
          "output_type": "display_data"
        },
        {
          "data": {
            "text/html": [
              " View run at <a href='https://wandb.ai/sesamerin-carnegie-mellon-university/HW4P2-ASR/runs/5i205rky' target=\"_blank\">https://wandb.ai/sesamerin-carnegie-mellon-university/HW4P2-ASR/runs/5i205rky</a>"
            ],
            "text/plain": [
              "<IPython.core.display.HTML object>"
            ]
          },
          "metadata": {},
          "output_type": "display_data"
        }
      ],
      "source": [
        "# import wandb\n",
        "# project = trainer.config['training'].get('wandb_project', 'default-project')\n",
        "\n",
        "# trainer.wandb_run = wandb.init(project=project,\n",
        "#                                name=trainer.expt_root.stem + \"_cont\",\n",
        "#                                resume=\"allow\",      # 新 run\n",
        "#                                config=trainer.config)\n",
        "\n"
      ]
    },
    {
      "cell_type": "code",
      "execution_count": 20,
      "metadata": {
        "id": "bKCzg3U8XWX2"
      },
      "outputs": [
        {
          "name": "stdout",
          "output_type": "stream",
          "text": [
            "\n",
            "📈 Configuring Learning Rate Scheduler:\n",
            "├── Type: COSINE\n",
            "├── Cosine Annealing Settings:\n",
            "│   ├── T_max: 40 epochs (71360 steps)\n",
            "│   └── Min LR: 0.0\n",
            "├── Warmup Settings:\n",
            "│   ├── Duration: 5 epochs (8920 steps)\n",
            "│   ├── Start Factor: 0.1\n",
            "│   └── End Factor: 1.0\n",
            "\n",
            "=== Epoch 0 / 29 ===\n"
          ]
        },
        {
          "name": "stderr",
          "output_type": "stream",
          "text": [
            "                                                                                                                                                                \r"
          ]
        },
        {
          "name": "stdout",
          "output_type": "stream",
          "text": [
            "\n",
            "📊 Metrics (Epoch 0):\n",
            "├── TRAIN:\n",
            "│   ├── ce_loss: 1.7335\n",
            "│   ├── ctc_loss: 0.8648\n",
            "│   ├── joint_loss: 1.9929\n",
            "│   ├── perplexity_char: 1.5054\n",
            "│   └── perplexity_token: 5.6602\n",
            "└── VAL:\n",
            "    ├── cer: 11.4156\n",
            "    ├── wer: 22.0176\n",
            "    └── word_dist: 13.6741\n",
            "└── TRAINING:\n",
            "    └── learning_rate: 0.000133\n"
          ]
        },
        {
          "name": "stderr",
          "output_type": "stream",
          "text": [
            "\u001b[34m\u001b[1mwandb\u001b[0m: \u001b[33mWARNING\u001b[0m Saving files without folders. If you want to preserve subdirectories pass base_path to wandb.save, i.e. wandb.save(\"/mnt/folder/file.h5\", base_path=\"/mnt\")\n"
          ]
        },
        {
          "name": "stdout",
          "output_type": "stream",
          "text": [
            "\n",
            "=== Epoch 1 / 30 ===\n"
          ]
        },
        {
          "name": "stderr",
          "output_type": "stream",
          "text": [
            "                                                                                                                                                                \r"
          ]
        },
        {
          "name": "stdout",
          "output_type": "stream",
          "text": [
            "\n",
            "📊 Metrics (Epoch 1):\n",
            "├── TRAIN:\n",
            "│   ├── ce_loss: 1.7190\n",
            "│   ├── ctc_loss: 0.8660\n",
            "│   ├── joint_loss: 1.9788\n",
            "│   ├── perplexity_char: 1.5003\n",
            "│   └── perplexity_token: 5.5791\n",
            "└── VAL:\n",
            "    ├── cer: 11.1601\n",
            "    ├── wer: 21.8393\n",
            "    └── word_dist: 13.2183\n",
            "└── TRAINING:\n",
            "    └── learning_rate: 0.000196\n",
            "\n",
            "=== Epoch 2 / 31 ===\n"
          ]
        },
        {
          "name": "stderr",
          "output_type": "stream",
          "text": [
            "                                                                                                                                                                \r"
          ]
        },
        {
          "name": "stdout",
          "output_type": "stream",
          "text": [
            "\n",
            "📊 Metrics (Epoch 2):\n",
            "├── TRAIN:\n",
            "│   ├── ce_loss: 1.7280\n",
            "│   ├── ctc_loss: 0.8680\n",
            "│   ├── joint_loss: 1.9884\n",
            "│   ├── perplexity_char: 1.5035\n",
            "│   └── perplexity_token: 5.6293\n",
            "└── VAL:\n",
            "    ├── cer: 11.2475\n",
            "    ├── wer: 21.9202\n",
            "    └── word_dist: 13.3119\n",
            "└── TRAINING:\n",
            "    └── learning_rate: 0.000259\n",
            "\n",
            "=== Epoch 3 / 32 ===\n"
          ]
        },
        {
          "name": "stderr",
          "output_type": "stream",
          "text": [
            "                                                                                                                                                                \r"
          ]
        },
        {
          "name": "stdout",
          "output_type": "stream",
          "text": [
            "\n",
            "📊 Metrics (Epoch 3):\n",
            "├── TRAIN:\n",
            "│   ├── ce_loss: 1.7453\n",
            "│   ├── ctc_loss: 0.8647\n",
            "│   ├── joint_loss: 2.0047\n",
            "│   ├── perplexity_char: 1.5096\n",
            "│   └── perplexity_token: 5.7276\n",
            "└── VAL:\n",
            "    ├── cer: 11.7318\n",
            "    ├── wer: 22.2712\n",
            "    └── word_dist: 14.1088\n",
            "└── TRAINING:\n",
            "    └── learning_rate: 0.000322\n",
            "\n",
            "=== Epoch 4 / 33 ===\n"
          ]
        },
        {
          "name": "stderr",
          "output_type": "stream",
          "text": [
            "                                                                                                                                                                \r"
          ]
        },
        {
          "name": "stdout",
          "output_type": "stream",
          "text": [
            "\n",
            "📊 Metrics (Epoch 4):\n",
            "├── TRAIN:\n",
            "│   ├── ce_loss: 1.7565\n",
            "│   ├── ctc_loss: 0.8732\n",
            "│   ├── joint_loss: 2.0184\n",
            "│   ├── perplexity_char: 1.5136\n",
            "│   └── perplexity_token: 5.7920\n",
            "└── VAL:\n",
            "    ├── cer: 11.8708\n",
            "    ├── wer: 22.6058\n",
            "    └── word_dist: 14.1765\n",
            "└── TRAINING:\n",
            "    └── learning_rate: 0.000385\n",
            "\n",
            "=== Epoch 5 / 34 ===\n"
          ]
        },
        {
          "name": "stderr",
          "output_type": "stream",
          "text": [
            "                                                                                                                                                                \r"
          ]
        },
        {
          "name": "stdout",
          "output_type": "stream",
          "text": [
            "\n",
            "📊 Metrics (Epoch 5):\n",
            "├── TRAIN:\n",
            "│   ├── ce_loss: 1.7712\n",
            "│   ├── ctc_loss: 0.8732\n",
            "│   ├── joint_loss: 2.0332\n",
            "│   ├── perplexity_char: 1.5189\n",
            "│   └── perplexity_token: 5.8780\n",
            "└── VAL:\n",
            "    ├── cer: 11.2433\n",
            "    ├── wer: 21.7823\n",
            "    └── word_dist: 13.4292\n",
            "└── TRAINING:\n",
            "    └── learning_rate: 0.000448\n",
            "\n",
            "=== Epoch 6 / 35 ===\n"
          ]
        },
        {
          "name": "stderr",
          "output_type": "stream",
          "text": [
            "                                                                                                                                                                \r"
          ]
        },
        {
          "name": "stdout",
          "output_type": "stream",
          "text": [
            "\n",
            "📊 Metrics (Epoch 6):\n",
            "├── TRAIN:\n",
            "│   ├── ce_loss: 1.7754\n",
            "│   ├── ctc_loss: 0.8820\n",
            "│   ├── joint_loss: 2.0400\n",
            "│   ├── perplexity_char: 1.5204\n",
            "│   └── perplexity_token: 5.9024\n",
            "└── VAL:\n",
            "    ├── cer: 11.6240\n",
            "    ├── wer: 22.3760\n",
            "    └── word_dist: 13.8172\n",
            "└── TRAINING:\n",
            "    └── learning_rate: 0.000511\n",
            "\n",
            "=== Epoch 7 / 36 ===\n"
          ]
        },
        {
          "name": "stderr",
          "output_type": "stream",
          "text": [
            "                                                                                                                                                                \r"
          ]
        },
        {
          "name": "stdout",
          "output_type": "stream",
          "text": [
            "\n",
            "📊 Metrics (Epoch 7):\n",
            "├── TRAIN:\n",
            "│   ├── ce_loss: 1.7818\n",
            "│   ├── ctc_loss: 0.8793\n",
            "│   ├── joint_loss: 2.0456\n",
            "│   ├── perplexity_char: 1.5227\n",
            "│   └── perplexity_token: 5.9404\n",
            "└── VAL:\n",
            "    ├── cer: 11.5005\n",
            "    ├── wer: 22.3301\n",
            "    └── word_dist: 13.3448\n",
            "└── TRAINING:\n",
            "    └── learning_rate: 0.000574\n",
            "\n",
            "=== Epoch 8 / 37 ===\n"
          ]
        },
        {
          "name": "stderr",
          "output_type": "stream",
          "text": [
            "                                                                                                                                                                \r"
          ]
        },
        {
          "name": "stdout",
          "output_type": "stream",
          "text": [
            "\n",
            "📊 Metrics (Epoch 8):\n",
            "├── TRAIN:\n",
            "│   ├── ce_loss: 1.7981\n",
            "│   ├── ctc_loss: 0.8826\n",
            "│   ├── joint_loss: 2.0629\n",
            "│   ├── perplexity_char: 1.5286\n",
            "│   └── perplexity_token: 6.0383\n",
            "└── VAL:\n",
            "    ├── cer: 12.3440\n",
            "    ├── wer: 23.3447\n",
            "    └── word_dist: 14.5616\n",
            "└── TRAINING:\n",
            "    └── learning_rate: 0.000637\n",
            "\n",
            "=== Epoch 9 / 38 ===\n"
          ]
        },
        {
          "name": "stderr",
          "output_type": "stream",
          "text": [
            "[Training ASR]: 100%|████████████████████████████████████████████████████████████████████▉| 1783/1784 [05:52<00:00,  5.13it/s, ce=1.806, ctc=0.886, joint=2.072]/jet/home/psamal/hw_envs/idl_hw4/lib/python3.12/site-packages/torch/optim/lr_scheduler.py:240: UserWarning: The epoch parameter in `scheduler.step()` was not necessary and is being deprecated where possible. Please use `scheduler.step()` to step the scheduler. During the deprecation, if epoch is different from None, the closed form is used instead of the new chainable form, where available. Please open an issue if you are unable to replicate your use case: https://github.com/pytorch/pytorch/issues/new/choose.\n",
            "  warnings.warn(EPOCH_DEPRECATION_WARNING, UserWarning)\n",
            "                                                                                                                                                                \r"
          ]
        },
        {
          "name": "stdout",
          "output_type": "stream",
          "text": [
            "\n",
            "📊 Metrics (Epoch 9):\n",
            "├── TRAIN:\n",
            "│   ├── ce_loss: 1.8060\n",
            "│   ├── ctc_loss: 0.8859\n",
            "│   ├── joint_loss: 2.0718\n",
            "│   ├── perplexity_char: 1.5314\n",
            "│   └── perplexity_token: 6.0861\n",
            "└── VAL:\n",
            "    ├── cer: 12.2733\n",
            "    ├── wer: 23.3337\n",
            "    └── word_dist: 14.6755\n",
            "└── TRAINING:\n",
            "    └── learning_rate: 0.000700\n",
            "\n",
            "=== Epoch 10 / 39 ===\n"
          ]
        },
        {
          "name": "stderr",
          "output_type": "stream",
          "text": [
            "                                                                                                                                                                \r"
          ]
        },
        {
          "name": "stdout",
          "output_type": "stream",
          "text": [
            "\n",
            "📊 Metrics (Epoch 10):\n",
            "├── TRAIN:\n",
            "│   ├── ce_loss: 1.8067\n",
            "│   ├── ctc_loss: 0.8801\n",
            "│   ├── joint_loss: 2.0707\n",
            "│   ├── perplexity_char: 1.5317\n",
            "│   └── perplexity_token: 6.0903\n",
            "└── VAL:\n",
            "    ├── cer: 12.3426\n",
            "    ├── wer: 23.3852\n",
            "    └── word_dist: 14.6748\n",
            "└── TRAINING:\n",
            "    └── learning_rate: 0.000700\n",
            "\n",
            "=== Epoch 11 / 40 ===\n"
          ]
        },
        {
          "name": "stderr",
          "output_type": "stream",
          "text": [
            "                                                                                                                                                                \r"
          ]
        },
        {
          "name": "stdout",
          "output_type": "stream",
          "text": [
            "\n",
            "📊 Metrics (Epoch 11):\n",
            "├── TRAIN:\n",
            "│   ├── ce_loss: 1.7936\n",
            "│   ├── ctc_loss: 0.8593\n",
            "│   ├── joint_loss: 2.0513\n",
            "│   ├── perplexity_char: 1.5269\n",
            "│   └── perplexity_token: 6.0108\n",
            "└── VAL:\n",
            "    ├── cer: 11.6382\n",
            "    ├── wer: 22.4330\n",
            "    └── word_dist: 13.9145\n",
            "└── TRAINING:\n",
            "    └── learning_rate: 0.000699\n",
            "\n",
            "=== Epoch 12 / 41 ===\n"
          ]
        },
        {
          "name": "stderr",
          "output_type": "stream",
          "text": [
            "                                                                                                                                                                \r"
          ]
        },
        {
          "name": "stdout",
          "output_type": "stream",
          "text": [
            "\n",
            "📊 Metrics (Epoch 12):\n",
            "├── TRAIN:\n",
            "│   ├── ce_loss: 1.7745\n",
            "│   ├── ctc_loss: 0.8452\n",
            "│   ├── joint_loss: 2.0281\n",
            "│   ├── perplexity_char: 1.5201\n",
            "│   └── perplexity_token: 5.8975\n",
            "└── VAL:\n",
            "    ├── cer: 11.8112\n",
            "    ├── wer: 22.4790\n",
            "    └── word_dist: 14.0869\n",
            "└── TRAINING:\n",
            "    └── learning_rate: 0.000698\n",
            "\n",
            "=== Epoch 13 / 42 ===\n"
          ]
        },
        {
          "name": "stderr",
          "output_type": "stream",
          "text": [
            "                                                                                                                                                                \r"
          ]
        },
        {
          "name": "stdout",
          "output_type": "stream",
          "text": [
            "\n",
            "📊 Metrics (Epoch 13):\n",
            "├── TRAIN:\n",
            "│   ├── ce_loss: 1.7499\n",
            "│   ├── ctc_loss: 0.8189\n",
            "│   ├── joint_loss: 1.9956\n",
            "│   ├── perplexity_char: 1.5113\n",
            "│   └── perplexity_token: 5.7540\n",
            "└── VAL:\n",
            "    ├── cer: 11.5789\n",
            "    ├── wer: 22.4330\n",
            "    └── word_dist: 13.5146\n",
            "└── TRAINING:\n",
            "    └── learning_rate: 0.000696\n",
            "\n",
            "=== Epoch 14 / 43 ===\n"
          ]
        },
        {
          "name": "stderr",
          "output_type": "stream",
          "text": [
            "                                                                                                                                                                \r"
          ]
        },
        {
          "name": "stdout",
          "output_type": "stream",
          "text": [
            "\n",
            "📊 Metrics (Epoch 14):\n",
            "├── TRAIN:\n",
            "│   ├── ce_loss: 1.7504\n",
            "│   ├── ctc_loss: 0.8068\n",
            "│   ├── joint_loss: 1.9925\n",
            "│   ├── perplexity_char: 1.5115\n",
            "│   └── perplexity_token: 5.7572\n",
            "└── VAL:\n",
            "    ├── cer: 11.3022\n",
            "    ├── wer: 21.6904\n",
            "    └── word_dist: 13.5128\n",
            "└── TRAINING:\n",
            "    └── learning_rate: 0.000693\n",
            "\n",
            "=== Epoch 15 / 44 ===\n"
          ]
        },
        {
          "name": "stderr",
          "output_type": "stream",
          "text": [
            "                                                                                                                                                                \r"
          ]
        },
        {
          "name": "stdout",
          "output_type": "stream",
          "text": [
            "\n",
            "📊 Metrics (Epoch 15):\n",
            "├── TRAIN:\n",
            "│   ├── ce_loss: 1.7248\n",
            "│   ├── ctc_loss: 0.7819\n",
            "│   ├── joint_loss: 1.9594\n",
            "│   ├── perplexity_char: 1.5023\n",
            "│   └── perplexity_token: 5.6113\n",
            "└── VAL:\n",
            "    ├── cer: 11.3071\n",
            "    ├── wer: 21.5268\n",
            "    └── word_dist: 13.5102\n",
            "└── TRAINING:\n",
            "    └── learning_rate: 0.000690\n",
            "\n",
            "=== Epoch 16 / 45 ===\n"
          ]
        },
        {
          "name": "stderr",
          "output_type": "stream",
          "text": [
            "                                                                                                                                                                \r"
          ]
        },
        {
          "name": "stdout",
          "output_type": "stream",
          "text": [
            "\n",
            "📊 Metrics (Epoch 16):\n",
            "├── TRAIN:\n",
            "│   ├── ce_loss: 1.7303\n",
            "│   ├── ctc_loss: 0.7699\n",
            "│   ├── joint_loss: 1.9613\n",
            "│   ├── perplexity_char: 1.5043\n",
            "│   └── perplexity_token: 5.6424\n",
            "└── VAL:\n",
            "    ├── cer: 11.4014\n",
            "    ├── wer: 21.6794\n",
            "    └── word_dist: 13.6086\n",
            "└── TRAINING:\n",
            "    └── learning_rate: 0.000687\n",
            "\n",
            "=== Epoch 17 / 46 ===\n"
          ]
        },
        {
          "name": "stderr",
          "output_type": "stream",
          "text": [
            "                                                                                                                                                                \r"
          ]
        },
        {
          "name": "stdout",
          "output_type": "stream",
          "text": [
            "\n",
            "📊 Metrics (Epoch 17):\n",
            "├── TRAIN:\n",
            "│   ├── ce_loss: 1.6983\n",
            "│   ├── ctc_loss: 0.7396\n",
            "│   ├── joint_loss: 1.9202\n",
            "│   ├── perplexity_char: 1.4930\n",
            "│   └── perplexity_token: 5.4646\n",
            "└── VAL:\n",
            "    ├── cer: 11.1764\n",
            "    ├── wer: 21.3411\n",
            "    └── word_dist: 13.4913\n",
            "└── TRAINING:\n",
            "    └── learning_rate: 0.000683\n",
            "\n",
            "=== Epoch 18 / 47 ===\n"
          ]
        },
        {
          "name": "stderr",
          "output_type": "stream",
          "text": [
            "                                                                                                                                                                \r"
          ]
        },
        {
          "name": "stdout",
          "output_type": "stream",
          "text": [
            "\n",
            "📊 Metrics (Epoch 18):\n",
            "├── TRAIN:\n",
            "│   ├── ce_loss: 1.6843\n",
            "│   ├── ctc_loss: 0.7269\n",
            "│   ├── joint_loss: 1.9023\n",
            "│   ├── perplexity_char: 1.4880\n",
            "│   └── perplexity_token: 5.3885\n",
            "└── VAL:\n",
            "    ├── cer: 10.0816\n",
            "    ├── wer: 19.9018\n",
            "    └── word_dist: 11.9145\n",
            "└── TRAINING:\n",
            "    └── learning_rate: 0.000678\n",
            "\n",
            "=== Epoch 19 / 48 ===\n"
          ]
        },
        {
          "name": "stderr",
          "output_type": "stream",
          "text": [
            "                                                                                                                                                                \r"
          ]
        },
        {
          "name": "stdout",
          "output_type": "stream",
          "text": [
            "\n",
            "📊 Metrics (Epoch 19):\n",
            "├── TRAIN:\n",
            "│   ├── ce_loss: 1.6828\n",
            "│   ├── ctc_loss: 0.7146\n",
            "│   ├── joint_loss: 1.8972\n",
            "│   ├── perplexity_char: 1.4875\n",
            "│   └── perplexity_token: 5.3805\n",
            "└── VAL:\n",
            "    ├── cer: 10.3173\n",
            "    ├── wer: 20.2235\n",
            "    └── word_dist: 12.3396\n",
            "└── TRAINING:\n",
            "    └── learning_rate: 0.000673\n",
            "\n",
            "=== Epoch 20 / 49 ===\n"
          ]
        },
        {
          "name": "stderr",
          "output_type": "stream",
          "text": [
            "                                                                                                                                                                \r"
          ]
        },
        {
          "name": "stdout",
          "output_type": "stream",
          "text": [
            "\n",
            "📊 Metrics (Epoch 20):\n",
            "├── TRAIN:\n",
            "│   ├── ce_loss: 1.6769\n",
            "│   ├── ctc_loss: 0.6972\n",
            "│   ├── joint_loss: 1.8860\n",
            "│   ├── perplexity_char: 1.4855\n",
            "│   └── perplexity_token: 5.3488\n",
            "└── VAL:\n",
            "    ├── cer: 10.3739\n",
            "    ├── wer: 20.3559\n",
            "    └── word_dist: 12.4343\n",
            "└── TRAINING:\n",
            "    └── learning_rate: 0.000668\n",
            "\n",
            "=== Epoch 21 / 50 ===\n"
          ]
        },
        {
          "name": "stderr",
          "output_type": "stream",
          "text": [
            "                                                                                                                                                                \r"
          ]
        },
        {
          "name": "stdout",
          "output_type": "stream",
          "text": [
            "\n",
            "📊 Metrics (Epoch 21):\n",
            "├── TRAIN:\n",
            "│   ├── ce_loss: 1.6671\n",
            "│   ├── ctc_loss: 0.6842\n",
            "│   ├── joint_loss: 1.8724\n",
            "│   ├── perplexity_char: 1.4820\n",
            "│   └── perplexity_token: 5.2970\n",
            "└── VAL:\n",
            "    ├── cer: 10.4231\n",
            "    ├── wer: 20.1371\n",
            "    └── word_dist: 12.6160\n",
            "└── TRAINING:\n",
            "    └── learning_rate: 0.000662\n",
            "\n",
            "=== Epoch 22 / 51 ===\n"
          ]
        },
        {
          "name": "stderr",
          "output_type": "stream",
          "text": [
            "                                                                                                                                                                \r"
          ]
        },
        {
          "name": "stdout",
          "output_type": "stream",
          "text": [
            "\n",
            "📊 Metrics (Epoch 22):\n",
            "├── TRAIN:\n",
            "│   ├── ce_loss: 1.6600\n",
            "│   ├── ctc_loss: 0.6701\n",
            "│   ├── joint_loss: 1.8611\n",
            "│   ├── perplexity_char: 1.4796\n",
            "│   └── perplexity_token: 5.2596\n",
            "└── VAL:\n",
            "    ├── cer: 10.5007\n",
            "    ├── wer: 20.1721\n",
            "    └── word_dist: 12.5261\n",
            "└── TRAINING:\n",
            "    └── learning_rate: 0.000655\n",
            "\n",
            "=== Epoch 23 / 52 ===\n"
          ]
        },
        {
          "name": "stderr",
          "output_type": "stream",
          "text": [
            "                                                                                                                                                                \r"
          ]
        },
        {
          "name": "stdout",
          "output_type": "stream",
          "text": [
            "\n",
            "📊 Metrics (Epoch 23):\n",
            "├── TRAIN:\n",
            "│   ├── ce_loss: 1.6552\n",
            "│   ├── ctc_loss: 0.6643\n",
            "│   ├── joint_loss: 1.8545\n",
            "│   ├── perplexity_char: 1.4779\n",
            "│   └── perplexity_token: 5.2342\n",
            "└── VAL:\n",
            "    ├── cer: 10.5004\n",
            "    ├── wer: 20.2198\n",
            "    └── word_dist: 12.7518\n",
            "└── TRAINING:\n",
            "    └── learning_rate: 0.000648\n",
            "\n",
            "=== Epoch 24 / 53 ===\n"
          ]
        },
        {
          "name": "stderr",
          "output_type": "stream",
          "text": [
            "                                                                                                                                                                \r"
          ]
        },
        {
          "name": "stdout",
          "output_type": "stream",
          "text": [
            "\n",
            "📊 Metrics (Epoch 24):\n",
            "├── TRAIN:\n",
            "│   ├── ce_loss: 1.6272\n",
            "│   ├── ctc_loss: 0.6386\n",
            "│   ├── joint_loss: 1.8188\n",
            "│   ├── perplexity_char: 1.4681\n",
            "│   └── perplexity_token: 5.0894\n",
            "└── VAL:\n",
            "    ├── cer: 9.9627\n",
            "    ├── wer: 19.4037\n",
            "    └── word_dist: 12.0559\n",
            "└── TRAINING:\n",
            "    └── learning_rate: 0.000641\n",
            "\n",
            "=== Epoch 25 / 54 ===\n"
          ]
        },
        {
          "name": "stderr",
          "output_type": "stream",
          "text": [
            "                                                                                                                                                                \r"
          ]
        },
        {
          "name": "stdout",
          "output_type": "stream",
          "text": [
            "\n",
            "📊 Metrics (Epoch 25):\n",
            "├── TRAIN:\n",
            "│   ├── ce_loss: 1.6198\n",
            "│   ├── ctc_loss: 0.6258\n",
            "│   ├── joint_loss: 1.8075\n",
            "│   ├── perplexity_char: 1.4656\n",
            "│   └── perplexity_token: 5.0520\n",
            "└── VAL:\n",
            "    ├── cer: 10.3908\n",
            "    ├── wer: 19.7860\n",
            "    └── word_dist: 12.4232\n",
            "└── TRAINING:\n",
            "    └── learning_rate: 0.000633\n",
            "\n",
            "=== Epoch 26 / 55 ===\n"
          ]
        },
        {
          "name": "stderr",
          "output_type": "stream",
          "text": [
            "                                                                                                                                                                \r"
          ]
        },
        {
          "name": "stdout",
          "output_type": "stream",
          "text": [
            "\n",
            "📊 Metrics (Epoch 26):\n",
            "├── TRAIN:\n",
            "│   ├── ce_loss: 1.6143\n",
            "│   ├── ctc_loss: 0.6211\n",
            "│   ├── joint_loss: 1.8006\n",
            "│   ├── perplexity_char: 1.4637\n",
            "│   └── perplexity_token: 5.0244\n",
            "└── VAL:\n",
            "    ├── cer: 9.9429\n",
            "    ├── wer: 19.3008\n",
            "    └── word_dist: 11.9711\n",
            "└── TRAINING:\n",
            "    └── learning_rate: 0.000625\n",
            "\n",
            "=== Epoch 27 / 56 ===\n"
          ]
        },
        {
          "name": "stderr",
          "output_type": "stream",
          "text": [
            "                                                                                                                                                                \r"
          ]
        },
        {
          "name": "stdout",
          "output_type": "stream",
          "text": [
            "\n",
            "📊 Metrics (Epoch 27):\n",
            "├── TRAIN:\n",
            "│   ├── ce_loss: 1.6040\n",
            "│   ├── ctc_loss: 0.5995\n",
            "│   ├── joint_loss: 1.7838\n",
            "│   ├── perplexity_char: 1.4601\n",
            "│   └── perplexity_token: 4.9729\n",
            "└── VAL:\n",
            "    ├── cer: 9.9967\n",
            "    ├── wer: 19.1703\n",
            "    └── word_dist: 12.0499\n",
            "└── TRAINING:\n",
            "    └── learning_rate: 0.000616\n",
            "\n",
            "=== Epoch 28 / 57 ===\n"
          ]
        },
        {
          "name": "stderr",
          "output_type": "stream",
          "text": [
            "                                                                                                                                                                \r"
          ]
        },
        {
          "name": "stdout",
          "output_type": "stream",
          "text": [
            "\n",
            "📊 Metrics (Epoch 28):\n",
            "├── TRAIN:\n",
            "│   ├── ce_loss: 1.6147\n",
            "│   ├── ctc_loss: 0.5888\n",
            "│   ├── joint_loss: 1.7913\n",
            "│   ├── perplexity_char: 1.4638\n",
            "│   └── perplexity_token: 5.0262\n",
            "└── VAL:\n",
            "    ├── cer: 9.4586\n",
            "    ├── wer: 18.8136\n",
            "    └── word_dist: 11.4203\n",
            "└── TRAINING:\n",
            "    └── learning_rate: 0.000607\n",
            "\n",
            "=== Epoch 29 / 58 ===\n"
          ]
        },
        {
          "name": "stderr",
          "output_type": "stream",
          "text": [
            "                                                                                                                                                                \r"
          ]
        },
        {
          "name": "stdout",
          "output_type": "stream",
          "text": [
            "\n",
            "📊 Metrics (Epoch 29):\n",
            "├── TRAIN:\n",
            "│   ├── ce_loss: 1.6048\n",
            "│   ├── ctc_loss: 0.5787\n",
            "│   ├── joint_loss: 1.7784\n",
            "│   ├── perplexity_char: 1.4604\n",
            "│   └── perplexity_token: 4.9768\n",
            "└── VAL:\n",
            "    ├── cer: 9.9135\n",
            "    ├── wer: 19.3063\n",
            "    └── word_dist: 12.0969\n",
            "└── TRAINING:\n",
            "    └── learning_rate: 0.000597\n"
          ]
        }
      ],
      "source": [
        "trainer.train(train_loader, val_loader, epochs=30)"
      ]
    },
    {
      "cell_type": "markdown",
      "metadata": {
        "id": "m9o7QclnXWX2"
      },
      "source": [
        "#### Inference\n"
      ]
    },
    {
      "cell_type": "code",
      "execution_count": 21,
      "metadata": {
        "id": "bmtZ3E46N0Kt"
      },
      "outputs": [
        {
          "name": "stdout",
          "output_type": "stream",
          "text": [
            "Evaluating with test config\n"
          ]
        },
        {
          "name": "stderr",
          "output_type": "stream",
          "text": [
            "                                                                                                                                                                \r"
          ]
        },
        {
          "data": {
            "text/html": [],
            "text/plain": [
              "<IPython.core.display.HTML object>"
            ]
          },
          "metadata": {},
          "output_type": "display_data"
        },
        {
          "data": {
            "text/html": [
              "<br>    <style><br>        .wandb-row {<br>            display: flex;<br>            flex-direction: row;<br>            flex-wrap: wrap;<br>            justify-content: flex-start;<br>            width: 100%;<br>        }<br>        .wandb-col {<br>            display: flex;<br>            flex-direction: column;<br>            flex-basis: 100%;<br>            flex: 1;<br>            padding: 10px;<br>        }<br>    </style><br><div class=\"wandb-row\"><div class=\"wandb-col\"><h3>Run history:</h3><br/><table class=\"wandb\"><tr><td>learning_rate</td><td>▁▂▃▃▄▅▆▆▇█████████████▇▇▇▇▇▇▇▇</td></tr><tr><td>train/ce_loss</td><td>▅▅▅▆▆▇▇▇████▇▆▆▅▅▄▄▄▄▃▃▃▂▂▁▁▁▁</td></tr><tr><td>train/ctc_loss</td><td>███████████▇▇▆▆▆▅▅▄▄▄▃▃▃▂▂▂▁▁▁</td></tr><tr><td>train/joint_loss</td><td>▆▆▆▆▇▇▇▇████▇▆▆▅▅▄▄▄▄▃▃▃▂▂▂▁▁▁</td></tr><tr><td>train/perplexity_char</td><td>▅▅▅▆▆▇▇▇████▇▆▆▅▅▄▄▄▃▃▃▃▂▂▁▁▁▁</td></tr><tr><td>train/perplexity_token</td><td>▅▅▅▆▆▇▇▇████▇▆▆▅▅▄▄▄▃▃▃▃▂▁▁▁▁▁</td></tr><tr><td>val/cer</td><td>▆▅▅▇▇▅▆▆███▆▇▆▅▅▆▅▃▃▃▃▄▄▂▃▂▂▁▂</td></tr><tr><td>val/wer</td><td>▆▆▆▆▇▆▆▆███▇▇▇▅▅▅▅▃▃▃▃▃▃▂▂▂▂▁▂</td></tr><tr><td>val/word_dist</td><td>▆▅▅▇▇▅▆▅███▆▇▆▅▅▆▅▂▃▃▄▃▄▂▃▂▂▁▂</td></tr></table><br/></div><div class=\"wandb-col\"><h3>Run summary:</h3><br/><table class=\"wandb\"><tr><td>learning_rate</td><td>0.0006</td></tr><tr><td>train/ce_loss</td><td>1.60479</td></tr><tr><td>train/ctc_loss</td><td>0.57866</td></tr><tr><td>train/joint_loss</td><td>1.77838</td></tr><tr><td>train/perplexity_char</td><td>1.4604</td></tr><tr><td>train/perplexity_token</td><td>4.9768</td></tr><tr><td>val/cer</td><td>9.91347</td></tr><tr><td>val/wer</td><td>19.30628</td></tr><tr><td>val/word_dist</td><td>12.09693</td></tr></table><br/></div></div>"
            ],
            "text/plain": [
              "<IPython.core.display.HTML object>"
            ]
          },
          "metadata": {},
          "output_type": "display_data"
        },
        {
          "data": {
            "text/html": [
              " View run <strong style=\"color:#cdcd00\">hw4p2full</strong> at: <a href='https://wandb.ai/sesamerin-carnegie-mellon-university/HW4P2-ASR/runs/fgqbmml0' target=\"_blank\">https://wandb.ai/sesamerin-carnegie-mellon-university/HW4P2-ASR/runs/fgqbmml0</a><br> View project at: <a href='https://wandb.ai/sesamerin-carnegie-mellon-university/HW4P2-ASR' target=\"_blank\">https://wandb.ai/sesamerin-carnegie-mellon-university/HW4P2-ASR</a><br>Synced 5 W&B file(s), 60 media file(s), 0 artifact file(s) and 32 other file(s)"
            ],
            "text/plain": [
              "<IPython.core.display.HTML object>"
            ]
          },
          "metadata": {},
          "output_type": "display_data"
        },
        {
          "data": {
            "text/html": [
              "Find logs at: <code>./wandb/run-20250425_123939-fgqbmml0/logs</code>"
            ],
            "text/plain": [
              "<IPython.core.display.HTML object>"
            ]
          },
          "metadata": {},
          "output_type": "display_data"
        }
      ],
      "source": [
        "# Define the recognition config: Greedy search\n",
        "recognition_config = {\n",
        "    'num_batches': None,\n",
        "    'temperature': 1.0,\n",
        "    'repeat_penalty': 1.0,\n",
        "    'lm_weight': None,\n",
        "    'lm_model': None,\n",
        "    'beam_width': 1, # Beam width of 1 reverts to greedy\n",
        "}\n",
        "\n",
        "# Recognize with the shallow fusion config\n",
        "config_name = \"test\"\n",
        "print(f\"Evaluating with {config_name} config\")\n",
        "results = trainer.recognize(test_loader, recognition_config, config_name=config_name, max_length=max_transcript_len)\n",
        "\n",
        "\n",
        "# Calculate metrics on full batch\n",
        "generated = [r['generated'] for r in results]\n",
        "results_df = pd.DataFrame(\n",
        "    {\n",
        "        'id': range(len(generated)),\n",
        "        'transcription': generated\n",
        "    }\n",
        ")\n",
        "\n",
        "# Cleanup (Will end wandb run)\n",
        "trainer.cleanup()"
      ]
    },
    {
      "cell_type": "markdown",
      "metadata": {
        "id": "Srfle5jUeGYA"
      },
      "source": [
        "## Submit to Kaggle"
      ]
    },
    {
      "cell_type": "markdown",
      "metadata": {},
      "source": [
        "### Authenticate Kaggle\n",
        "In order to use the Kaggle’s public API, you must first authenticate using an API token. Go to the 'Account' tab of your user profile and select 'Create New Token'. This will trigger the download of kaggle.json, a file containing your API credentials.\n",
        "- `TODO`: Set your kaggle username and api key here based on the API credentials listed in the kaggle.json\n",
        "\n",
        "\n"
      ]
    },
    {
      "cell_type": "code",
      "execution_count": 22,
      "metadata": {},
      "outputs": [],
      "source": [
        "import os\n",
        "os.environ[\"KAGGLE_USERNAME\"] = \"sesamerin\"\n",
        "os.environ[\"KAGGLE_KEY\"] = \"760e5f5acceb0e051a890680bfc89341\""
      ]
    },
    {
      "cell_type": "code",
      "execution_count": 23,
      "metadata": {
        "id": "jFRZqdazOfZt"
      },
      "outputs": [
        {
          "data": {
            "text/html": [
              "<div>\n",
              "<style scoped>\n",
              "    .dataframe tbody tr th:only-of-type {\n",
              "        vertical-align: middle;\n",
              "    }\n",
              "\n",
              "    .dataframe tbody tr th {\n",
              "        vertical-align: top;\n",
              "    }\n",
              "\n",
              "    .dataframe thead th {\n",
              "        text-align: right;\n",
              "    }\n",
              "</style>\n",
              "<table border=\"1\" class=\"dataframe\">\n",
              "  <thead>\n",
              "    <tr style=\"text-align: right;\">\n",
              "      <th></th>\n",
              "      <th>id</th>\n",
              "      <th>transcription</th>\n",
              "    </tr>\n",
              "  </thead>\n",
              "  <tbody>\n",
              "    <tr>\n",
              "      <th>0</th>\n",
              "      <td>0</td>\n",
              "      <td>HE HOPED THERE WOULD BE STILL FOR DINNER TURNI...</td>\n",
              "    </tr>\n",
              "    <tr>\n",
              "      <th>1</th>\n",
              "      <td>1</td>\n",
              "      <td>STUFFED IN TO YOU HIS BELLY COUNCIL HIM</td>\n",
              "    </tr>\n",
              "    <tr>\n",
              "      <th>2</th>\n",
              "      <td>2</td>\n",
              "      <td>AFTER EARLY NIGHTFALL THE YELLOW LAMPS WOULD L...</td>\n",
              "    </tr>\n",
              "    <tr>\n",
              "      <th>3</th>\n",
              "      <td>3</td>\n",
              "      <td>LAH BIRDY AND HE GOOD AND YOUR MIND</td>\n",
              "    </tr>\n",
              "    <tr>\n",
              "      <th>4</th>\n",
              "      <td>4</td>\n",
              "      <td>NOM BUT THEN FRESH NELLIE IS WAITING ON YOU CO...</td>\n",
              "    </tr>\n",
              "  </tbody>\n",
              "</table>\n",
              "</div>"
            ],
            "text/plain": [
              "   id                                      transcription\n",
              "0   0  HE HOPED THERE WOULD BE STILL FOR DINNER TURNI...\n",
              "1   1            STUFFED IN TO YOU HIS BELLY COUNCIL HIM\n",
              "2   2  AFTER EARLY NIGHTFALL THE YELLOW LAMPS WOULD L...\n",
              "3   3                LAH BIRDY AND HE GOOD AND YOUR MIND\n",
              "4   4  NOM BUT THEN FRESH NELLIE IS WAITING ON YOU CO..."
            ]
          },
          "execution_count": 23,
          "metadata": {},
          "output_type": "execute_result"
        }
      ],
      "source": [
        "results_df.head()"
      ]
    },
    {
      "cell_type": "markdown",
      "metadata": {},
      "source": [
        "### Submit"
      ]
    },
    {
      "cell_type": "code",
      "execution_count": 24,
      "metadata": {
        "id": "bqWwBD6kO0Zf"
      },
      "outputs": [
        {
          "name": "stdout",
          "output_type": "stream",
          "text": [
            "100%|█████████████████████████████████████████| 291k/291k [00:00<00:00, 494kB/s]\n",
            "Successfully submitted to 11-785 HW4P2: Automatic Speech Recognition"
          ]
        }
      ],
      "source": [
        "results_df.to_csv(\"results.csv\", index=False)\n",
        "!kaggle competitions submit -c 11785-s25-hw4p2-asr -f results.csv -m \"My Submission\""
      ]
    }
  ],
  "metadata": {
    "accelerator": "GPU",
    "colab": {
      "collapsed_sections": [
        "T1K8ZJzQXWXm",
        "dqzcpqG0XWXp",
        "uP0Aucc7XWXs",
        "k5ey-Nd0XWXx"
      ],
      "gpuType": "A100",
      "machine_shape": "hm",
      "provenance": []
    },
    "kernelspec": {
      "display_name": "Python 3 (ipykernel)",
      "language": "python",
      "name": "python3"
    },
    "language_info": {
      "codemirror_mode": {
        "name": "ipython",
        "version": 3
      },
      "file_extension": ".py",
      "mimetype": "text/x-python",
      "name": "python",
      "nbconvert_exporter": "python",
      "pygments_lexer": "ipython3",
      "version": "3.12.4"
    }
  },
  "nbformat": 4,
  "nbformat_minor": 0
}
